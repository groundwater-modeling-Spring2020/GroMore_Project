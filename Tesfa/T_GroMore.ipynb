{
 "cells": [
  {
   "cell_type": "markdown",
   "metadata": {},
   "source": [
    "# Basin Scale Scenario Analysis Model \n",
    "\n",
    "GroMore is proposing to start a new agricultural effort in the basin. Their proposal is included in the base model as the rectangular irrigated area with the elevated ET and the shallow pumping well. They are resistant to changing this plan (location of the farm, crop, location of pumping well, etc) because they have agreements with the current landowner and have done a market analysis based on the proposed pumping and the projected value of the crop. \n",
    "\n",
    "## Model Description \n",
    "Basin box model for scenario analysis \n",
    "\n",
    "#### Dimensions: \n",
    "- 50 x 50 x 3\n",
    "- dx = dy = 1000 m\n",
    "- dz =   \n",
    "\n",
    "#### Topography\n",
    "- Land surface elevation (base_model_elevs.csv file)\n",
    "- Middle & bottom layers are horizontal.\n",
    "\n",
    "#### Subsurface Properties: \n",
    "- Top & Bot layers \n",
    "          Kx = Ky = Kz = 10 m/day \n",
    " \n",
    "- Middle layer\n",
    "          Kx = Ky = 10 m/d, \n",
    "          Kz = 10 m/d     1st 20 left most columns\n",
    "          Kz = 1e-04      in the rest of the layer\n",
    " \n",
    "- see NO FLOW corners in (NoFlow_Boundaries excel file)\n",
    "- Porosity = 0.10\n",
    "- Specific yield = 0.10\n",
    "- Storage coefficient = 0.0001  \n",
    "\n",
    "#### Boundary Conditions: \n",
    "   - Right boundary is a constant head of 70 m \n",
    "   - All other boundaries are no flow\n",
    "   - Note NO FLOW boundaries in the domain (see map on excel file: NoFlow_Boundaries)\n",
    "   - Recharge (uniform) occurs in the 1st 15 left most columns throughout the domain. R = 4E-5 m/d \n",
    "   - ET occurs in the right half of the model domain. ET = 1e-5 m/d\n",
    "   - ET_rip occurse across the riparian area in the domain (row 23 thru row 29). ET_rip = 5e-5 m/d\n",
    " \n",
    "#### Wells: \n",
    " - Water Supply well (bottom layer)\n",
    "       located at (38000,21000 ) or (row 21 & col 38)\n",
    "       pumping rate = 1500 m^3/d\n",
    " \n",
    " - Irrigation well (top layer)\n",
    "     - Located at (14000, 12000) or (row 12 & col 14)\n",
    "     - Pumping at a rate of (crop water demand)+ 0.20(excess irrig) + 0.30 (irrig inefficiency) m^3/d \n",
    "       - for wheat,Q = 3000 m^3/d\n",
    "       - for Pistachio,Q = 4500 m^3/d\n",
    "       - for Cotton,Q = 6000 m^3/d\n",
    " \n",
    " - Monitoring wells (top layer)\n",
    "      - MW1 located at (25000, 25000)\n",
    "      - MW2 located at (12500, 12500)\n",
    "       \n",
    "#### Irrigation Field\n",
    "      - located at (18000,20000) and (20000,22000) or (row 21 & 22 and col 19 & 20)\n",
    "      - 2000 m x 2000 m area.\n",
    "### stream\n",
    "      - runs from left to right domain boundary on row 26\n",
    "      "
   ]
  },
  {
   "cell_type": "markdown",
   "metadata": {},
   "source": [
    "## 1. Setup the environment"
   ]
  },
  {
   "cell_type": "code",
   "execution_count": 1,
   "metadata": {},
   "outputs": [
    {
     "name": "stdout",
     "output_type": "stream",
     "text": [
      "flopy is installed in C:\\Users\\HG\\Anaconda3\\lib\\site-packages\\flopy\n"
     ]
    }
   ],
   "source": [
    "#the basics\n",
    "import flopy\n",
    "import numpy as np\n",
    "import matplotlib as mp\n",
    "import os\n",
    "\n",
    "#additional analysis tools\n",
    "import flopy.utils.binaryfile as bf\n",
    "from mpl_toolkits.mplot3d import Axes3D\n",
    "import matplotlib.pyplot as plt\n",
    "from matplotlib import cm\n",
    "from matplotlib.ticker import LinearLocator, FormatStrFormatter\n",
    "import csv\n",
    "\n",
    "#jupyter specific--included to show plots in notebook\n",
    "%matplotlib inline "
   ]
  },
  {
   "cell_type": "markdown",
   "metadata": {},
   "source": [
    "## 2. Setup the input variables "
   ]
  },
  {
   "cell_type": "code",
   "execution_count": 2,
   "metadata": {},
   "outputs": [],
   "source": [
    "## Discritization\n",
    "nrow = 50 #number of rows\n",
    "ncol = 50 #number of columns\n",
    "nlay = 3  #number of layers\n",
    "laytyp = 1\n",
    "dx= 1000 #width of grid cells in x diretion \n",
    "dy= 1000 #width of grid cells in y diretion \n",
    "\n",
    "Lx = ncol*dx  #width of domain in x\n",
    "Ly = nrow*dy #width of domain in y\n",
    "\n",
    "ztop = np.genfromtxt('top_elevn.csv', delimiter=',', dtype=float)   # top elevation of top layer (import from csv file) (dim: nrow,ncol)\n",
    "ztop[0,0] = 124.                                           # insert missing initial value (not sure why didn't import)\n",
    "#print(type(ztop))\n",
    "#print(ztop.shape)\n",
    "#print(ztop[0,:])\n",
    "zbot = 0.     #bottom elevation\n",
    "\n",
    "dz = (ztop - zbot) / nlay #cell height in z direction\n",
    "\n",
    "## Timing\n",
    "nper = 1 #number of stress periods \n",
    "steady = [True] #list noting the stress period type\n",
    "\n",
    "## Subsurface properties\n",
    "K_horiz = 10.    #horizontal hydraulic conductivity \n",
    "Kz_1 = 10      # vert hyd cond for left most 20 columns in layer 2. And, entire top & bot layers\n",
    "Kz_2 = 1e-4  # vert hyd cond for the rest of columns in layer 2\n",
    "n = 0.1        #assign porosity\n",
    "Ss = 0.0001      #assign storage coefficient\n",
    "Sy = 0.1        #assign specific yield\n",
    "uncnf = 1       #0=confined, >0 = unconfined\n",
    "\n",
    "ET = 1e-5 #m/day   unform ET over right of domain\n",
    "ET_locxy =[[24000,50000],[50000,50000]]\n",
    "\n",
    "ET_rip =5e-5\n",
    "ET_rip_locxy=[[0, 22000], [50000, 28000]] #lower left and upper right corners of riparian ET in xy coordinate\n",
    "extinction_depth = 10 #no extinction    \n",
    "\n",
    "## Recharge\n",
    "recharge = 4e-5 # m/day\n",
    "rech_locxy = [[0,50000],[15000,50000]]  # recharge location (1st 15 left most cols)\n",
    "\n",
    "#well\n",
    "pumping1 = -1500 # m3/day      pumping rate for water supply well  \n",
    "pumping2 = -3000 # m^3/d             irrigation well pumping rate (for wheat)\n",
    "\n",
    "well_1_xy= [38000, 21000] # xy location of supply well \n",
    "well_1_row = np.floor((nrow-1)-(well_1_xy[1]/dy)) #convert the y location to a row (python row)\n",
    "well_1_col=np.floor(well_1_xy[0]/dx-1) #convert the x location to a column\n",
    "well_1_loc = (2,well_1_row,well_1_col) #Well loc (layer, row, column)\n",
    "\n",
    "well_2_xy= [14000, 12000] # xy location of irrigation well \n",
    "well_2_row = np.floor((nrow-1)-(well_2_xy[1]/dy)) #convert the y location to a row \n",
    "well_2_col=np.floor(well_2_xy[0]/dx-1) #convert the x location to a column\n",
    "well_2_loc = (0,well_2_row,well_2_col) #Well loc (layer, row, column)\n",
    "\n",
    "MW1_xy =[25000, 25000] # xy location of monitoring well 1 \n",
    "MW1_row = np.floor((nrow-1)-(MW1_xy[1]/dy))  \n",
    "MW1_col=np.floor(MW1_xy[0]/dx-1) \n",
    "MW1_loc = (0,MW1_row,MW1_col) \n",
    "\n",
    "MW2_xy = [12500, 12500] # xy location of smonitoring well 2 \n",
    "MW2_row = np.floor((nrow-1)-(MW2_xy[1]/dy)) \n",
    "MW2_col=np.floor(MW2_xy[0]/dx-1) \n",
    "MW2_loc = (0,MW2_row,MW2_col) \n",
    "\n",
    "\n",
    "#print(well_loc)\n",
    "#print(well_col)\n",
    "\n",
    "\n",
    "## Boundary conditions\n",
    "#h_left = No flow\n",
    "h_right = 70\n",
    "\n",
    "\n",
    "### HINT FOR SETTING UP RECHARGE ZONES IN THE ASSIGNMENT\n",
    "##Zone two properties\n",
    "#z2_recharge=1e-3\n",
    "#z2_llxy=[2000,3000]  #xy coordinates of lower left corner\n",
    "#z2_urxy=[2000,4000] #xy coordiantes of upper right corner\n",
    "##convert to rows and columns\n",
    "#z2_rowll = int(np.floor((nrow-1)-(z2_llxy[1]/dy))) #convert the y location to a row\n",
    "#z2_colll=int(np.floor(z2_llxy[0]/dx)-1)          #convert the x location to a column\n",
    "#z2_rowur = int(np.floor((nrow-1)-(z2_urxy[1]/dy))) #convert the y location to a row\n",
    "#z2_colur=int(np.floor(z2_urxy[0]/dx)-1)          #convert the x location to a column\n",
    "#print(z2_colll, z2_rowll, z2_colur, z2_rowur)\n",
    "## Recharge\n",
    "#NOTE - Recharge applies to the top so this is always 1 layer input even when them model has more layers\n",
    "#R_zones = np.zeros((1,nrow,ncol))                             # define an array of zeros the size of the model grid\n",
    "#R_zones[0,z2_rowur:z2_rowll, z2_colll:z2_colur] = z2_recharge      # assign recharge value  2 to coordinates for zone 2\n"
   ]
  },
  {
   "cell_type": "code",
   "execution_count": 4,
   "metadata": {},
   "outputs": [
    {
     "ename": "NameError",
     "evalue": "name 'riv_sp1' is not defined",
     "output_type": "error",
     "traceback": [
      "\u001b[1;31m---------------------------------------------------------------------------\u001b[0m",
      "\u001b[1;31mNameError\u001b[0m                                 Traceback (most recent call last)",
      "\u001b[1;32m<ipython-input-4-d68a1b7cd437>\u001b[0m in \u001b[0;36m<module>\u001b[1;34m\u001b[0m\n\u001b[0;32m     11\u001b[0m \u001b[1;31m#assign river data to cells in central column  ????\u001b[0m\u001b[1;33m\u001b[0m\u001b[1;33m\u001b[0m\u001b[1;33m\u001b[0m\u001b[0m\n\u001b[0;32m     12\u001b[0m \u001b[1;32mfor\u001b[0m \u001b[0mi\u001b[0m \u001b[1;32min\u001b[0m \u001b[0mrange\u001b[0m\u001b[1;33m(\u001b[0m\u001b[0mncol\u001b[0m\u001b[1;33m)\u001b[0m\u001b[1;33m:\u001b[0m\u001b[1;33m\u001b[0m\u001b[1;33m\u001b[0m\u001b[0m\n\u001b[1;32m---> 13\u001b[1;33m     \u001b[0mriv_sp1\u001b[0m\u001b[1;33m.\u001b[0m\u001b[0mappend\u001b[0m\u001b[1;33m(\u001b[0m\u001b[1;33m[\u001b[0m\u001b[1;36m0\u001b[0m\u001b[1;33m,\u001b[0m \u001b[0mi\u001b[0m\u001b[1;33m,\u001b[0m \u001b[0mncol\u001b[0m\u001b[1;33m/\u001b[0m\u001b[1;36m2\u001b[0m\u001b[1;33m,\u001b[0m \u001b[0mr_stage\u001b[0m\u001b[1;33m,\u001b[0m \u001b[0mcond\u001b[0m\u001b[1;33m,\u001b[0m \u001b[0mr_bott\u001b[0m\u001b[1;33m]\u001b[0m\u001b[1;33m)\u001b[0m\u001b[1;33m\u001b[0m\u001b[1;33m\u001b[0m\u001b[0m\n\u001b[0m\u001b[0;32m     14\u001b[0m \u001b[1;33m\u001b[0m\u001b[0m\n\u001b[0;32m     15\u001b[0m \u001b[0mriv_spd\u001b[0m \u001b[1;33m=\u001b[0m \u001b[1;33m{\u001b[0m\u001b[1;36m0\u001b[0m\u001b[1;33m:\u001b[0m \u001b[1;33m[\u001b[0m\u001b[0mweell_1\u001b[0m\u001b[1;33m]\u001b[0m\u001b[1;33m}\u001b[0m\u001b[1;33m\u001b[0m\u001b[1;33m\u001b[0m\u001b[0m\n",
      "\u001b[1;31mNameError\u001b[0m: name 'riv_sp1' is not defined"
     ]
    }
   ],
   "source": [
    "#DEFINE RIVERS\n",
    "\n",
    "#stress period 1 river cells\n",
    "#riv_sp1 = [] #create list to store all river cells for stress period 1\n",
    "k_rivbott = 1000 #river bottom hydraulic conductivity in m/d\n",
    "sed_thick = 1 #thickness of riverbed sediment in m\n",
    "cond = k_rivbott*(dy)*(dx)/(sed_thick) #river bed conductance in m^2/d\n",
    "#r_stage = 0.5      #stage in river (sp1)\n",
    "#r_bott = 0         #river bottom\n",
    "\n",
    "#assign river data to cells in central column  ????\n",
    "for i in range(ncol):\n",
    "    riv_sp1.append([0, i, ncol/2, r_stage, cond, r_bott])\n",
    "\n",
    "riv_spd = {0: [weell_1]}\n",
    "\n",
    "#stress period 2 river cells\n",
    "#riv_sp2 = [] #create list to store all river cells for stress period 2\n",
    "#r_stage = 5 #stage in river (stress period 2)\n",
    "#for i in range(nrow):\n",
    "    #riv_sp2.append([0, i, ncol/2, r_stage, cond, r_bott])\n",
    "\n",
    "#stress period 3 river cells\n",
    "#riv_sp3 = [] #create list to store all river cells for stress period 3\n",
    "#r_stage = 1 #stage in river (stress period 3)\n",
    "#for i in range(nrow):\n",
    "    #riv_sp3.append([0, i, ncol/2, r_stage, cond, r_bott])\n",
    "\n",
    "\n",
    "#create dictionary of stress period data\n",
    "#riv_spd = {0: riv_sp1, 1: riv_sp2, 2: riv_sp3}\n",
    "\n"
   ]
  },
  {
   "cell_type": "markdown",
   "metadata": {},
   "source": [
    "## 3. Setup and run MODFLOW  "
   ]
  },
  {
   "cell_type": "code",
   "execution_count": 10,
   "metadata": {},
   "outputs": [
    {
     "name": "stdout",
     "output_type": "stream",
     "text": [
      "WARNING: unit 22 of package EVT already in use\n",
      "****Warning -- two packages of the same type:  <class 'flopy.modflow.mfevt.ModflowEvt'> <class 'flopy.modflow.mfevt.ModflowEvt'>\n",
      "replacing existing Package...\n",
      "Well 1 [layer, row, column, flux]: \n",
      " [2, 28.0, 37.0, -1500]\n",
      "Well 2 [layer, row, column, flux]: \n",
      " [0, 37.0, 13.0, -3000]\n",
      "FloPy is using the following  executable to run the model: C:/Users/HG/Documents/AHWR_582/AFinalPro/GroMore_Project/Tesfa/mf2005.exe\n",
      "\n",
      "                                  MODFLOW-2005     \n",
      "    U.S. GEOLOGICAL SURVEY MODULAR FINITE-DIFFERENCE GROUND-WATER FLOW MODEL\n",
      "                             Version 1.12.00 2/3/2017                        \n",
      "\n",
      " Using NAME file: Scenario_1.nam \n",
      " Run start date and time (yyyy/mm/dd hh:mm:ss): 2020/04/15 10:26:01\n",
      "\n",
      " Solving:  Stress period:     1    Time step:     1    Ground-Water Flow Eqn.\n",
      " Run end date and time (yyyy/mm/dd hh:mm:ss): 2020/04/15 10:26:01\n",
      " Elapsed run time:  0.269 Seconds\n",
      "\n",
      "  Normal termination of simulation\n"
     ]
    }
   ],
   "source": [
    "#Initialize the model\n",
    "modelname1 = \"Scenario_1\"\n",
    "moddir=\"C:/Users/HG/Documents/AHWR_582/AFinalPro/GroMore_Project/Tesfa/mf2005.exe\"\n",
    "m1 = flopy.modflow.Modflow(modelname1, exe_name = moddir)\n",
    "\n",
    "botm = np.zeros((nlay,nrow,ncol)) # initialize array of zeros for bottom elevation for each model cell (dim: nlay,nrow,ncol)\n",
    "botm[1,:,:] = 40.                 # bottom elevation of middle layer (1) is 40 m\n",
    "botm[0,:,:] = 45.                 # bottom elevation of top layer (0) is 45 m \n",
    "\n",
    "## Make a arrays for the K values\n",
    "Kz = np.zeros((nlay,nrow,ncol))     # define an array of zeros the size of the model grid (nlay, nrow, ncol)\n",
    "Kz[0,:,:] = Kz_1 # assign vert K value to the entire array on top layer\n",
    "Kz[2,:,:] = Kz_1      # assign vert K value to the entire bot layer\n",
    "Kz[1,:,0:20] = Kz_1        # vert K in the middle layer for the 1st 20 left most cols\n",
    "Kz[1,:,20:50] = Kz_2     # vert K in the middle layer col 20 to col 50\n",
    "\n",
    "Kh = np.zeros((nlay,nrow,ncol))     # define an array of zeros the size of the model grid (nlay, nrow, ncol)\n",
    "Kh[:,:,:] = K_horiz                  # assign the original value to the entire array\n",
    "\n",
    "\n",
    "#Discretization - dis\n",
    "dis = flopy.modflow.ModflowDis(model=m1, nlay=nlay, nrow=nrow, ncol=ncol, \n",
    "                               delr=dx, delc=dy, top=ztop, botm=botm, \n",
    "                               itmuni = 4, lenuni = 2, \n",
    "                               nper=nper, steady=steady)\n",
    "\n",
    "# Boundary and initial conditions - bas\n",
    "#Define cell activity (IBOUND)\n",
    "ibound = np.ones((nlay, nrow, ncol), dtype=np.int32) #integer array of dim (z,y,x), makes all cells active                                                     \n",
    "#ibound[:,:,0] = -1          #replace leftmost column (all zs, all ys, first x) with -1 to indicate constant head\n",
    "ibound[:,:,49] = -1          #replace rightmost column (all zs, all ys, first x) with -1 to indicate constant head\n",
    "\n",
    "\n",
    "#setup initial heads as 1 everywhere except on the boundaries\n",
    "H_init = np.ones((nlay, nrow, ncol), dtype=np.float32)  #float array (i.e. decimal), sets all heads to 1.0\n",
    "H_init[:, :, :] = h_right    #initialize the entire domain to the right head value\n",
    "#H_init[:, :, 0] = h_left    #replace first (left) col with desired head value\n",
    "bas = flopy.modflow.ModflowBas(m1, ibound=ibound, strt=H_init)\n",
    "\n",
    "#Layer properties - lpf\n",
    "lpf = flopy.modflow.ModflowLpf(m1, laytyp=uncnf, hk=Kh, \n",
    "                               vka=Kz, ss=Ss,\n",
    "                               sy=Sy,storagecoefficient=True, ipakcb=53) \n",
    "\n",
    "#rech_zone=rech_zone+recharge\n",
    "\n",
    "rech_rows=(np.floor(nrow-rech_locxy[1][1]/dy),np.floor(nrow-rech_locxy[0][1]/dy)) #convert the y locations to rows\n",
    "rech_cols=(np.floor(rech_locxy[0][0]/dx),np.floor(rech_locxy[1][0]/dx)) #convert the y locations to rows\n",
    "rech_zone = np.zeros((1,nrow,ncol))     # define an array of zeroes the size of the model grid\n",
    "\n",
    "rech_zone=rech_zone+recharge\n",
    "\n",
    "rech_zone[0,int(rech_rows[0]):int(rech_rows[1]), int(rech_cols[0]):int(rech_cols[1])] = recharge    # assign recharge rate to the ET zone\n",
    "\n",
    "\n",
    "\n",
    "rch = flopy.modflow.mfrch.ModflowRch(model=m1, rech=rech_zone, ipakcb=53)     #create rch object\n",
    "\n",
    "ET_rows=(np.floor(nrow-ET_locxy[1][1]/dy),np.floor(nrow-ET_locxy[0][1]/dy)) #convert the y locations to rows\n",
    "ET_cols=(np.floor(ET_locxy[0][0]/dx),np.floor(ET_locxy[1][0]/dx)) #convert the y locations to rows\n",
    "ET_zone = np.zeros((1,nrow,ncol))     # define an array of zeroes the size of the model grid\n",
    "ET_zone[0,int(ET_rows[0]):int(ET_rows[1]), int(ET_cols[0]):int(ET_cols[1])] = ET    # assign ET rate to the ET zone\n",
    "\n",
    "evt = flopy.modflow.mfevt.ModflowEvt(m1, surf=ztop, evtr=ET_zone, exdp=extinction_depth, ipakcb=53)\n",
    "\n",
    "ET_rip_rows=(np.floor(nrow-ET_locxy[1][1]/dy),np.floor(nrow-ET_rip_locxy[0][1]/dy)) #convert the y locations to rows\n",
    "ET_rip_cols=(np.floor(ET_rip_locxy[0][0]/dx),np.floor(ET_rip_locxy[1][0]/dx)) #convert the y locations to rows\n",
    "ET_rip_zone = np.zeros((1,nrow,ncol))     # define an array of zeroes the size of the model grid\n",
    "ET_rip_zone[0,int(ET_rip_rows[0]):int(ET_rip_rows[1]), int(ET_rip_cols[0]):int(ET_rip_cols[1])] = ET_rip    # assign ET rate to the ET zone\n",
    "\n",
    "evt2 = flopy.modflow.mfevt.ModflowEvt(m1, surf=ztop, evtr=ET_rip_zone, exdp=extinction_depth, ipakcb=53)\n",
    "\n",
    "\n",
    "#Well\n",
    "well_1 = [i for i in well_1_loc] + [pumping1]\n",
    "print(\"Well 1 [layer, row, column, flux]: \\n\", well_1)\n",
    "\n",
    "well_2 = [i for i in well_2_loc] + [pumping2]\n",
    "print(\"Well 2 [layer, row, column, flux]: \\n\", well_2)\n",
    "\n",
    "wel_spd = {0: [well_1, well_2]}\n",
    "\n",
    "wel = flopy.modflow.ModflowWel(model=m1, stress_period_data=wel_spd)\n",
    "\n",
    "#Output control - OC \n",
    "spd = {(0,0):['print head', 'print budget', 'save head', 'save budget']} #create a dictionary for stress period data, where key (0,0) is associated with value ['print...'] \n",
    "oc = flopy.modflow.ModflowOc(model=m1, stress_period_data=spd, compact=True)\n",
    "\n",
    "#Numerical solver - pcg\n",
    "pcg = flopy.modflow.ModflowPcg(model=m1)\n",
    "\n",
    "#write the inputs\n",
    "m1.write_input()    \n",
    "\n",
    "#Run the model \n",
    "success, mfoutput = m1.run_model(pause=False, report=True)\n",
    "if not success:\n",
    "    raise Exception('MODFLOW did not terminate normally.')\n"
   ]
  },
  {
   "cell_type": "markdown",
   "metadata": {},
   "source": [
    "### Add River package"
   ]
  },
  {
   "cell_type": "code",
   "execution_count": 11,
   "metadata": {},
   "outputs": [
    {
     "ename": "NameError",
     "evalue": "name 'riv_spd' is not defined",
     "output_type": "error",
     "traceback": [
      "\u001b[1;31m---------------------------------------------------------------------------\u001b[0m",
      "\u001b[1;31mNameError\u001b[0m                                 Traceback (most recent call last)",
      "\u001b[1;32m<ipython-input-11-837eef0001f8>\u001b[0m in \u001b[0;36m<module>\u001b[1;34m\u001b[0m\n\u001b[0;32m      1\u001b[0m \u001b[1;31m#attach river package\u001b[0m\u001b[1;33m\u001b[0m\u001b[1;33m\u001b[0m\u001b[1;33m\u001b[0m\u001b[0m\n\u001b[1;32m----> 2\u001b[1;33m \u001b[0mriv\u001b[0m \u001b[1;33m=\u001b[0m \u001b[0mflopy\u001b[0m\u001b[1;33m.\u001b[0m\u001b[0mmodflow\u001b[0m\u001b[1;33m.\u001b[0m\u001b[0mModflowRiv\u001b[0m\u001b[1;33m(\u001b[0m\u001b[0mmodel\u001b[0m\u001b[1;33m=\u001b[0m\u001b[0mm1\u001b[0m\u001b[1;33m,\u001b[0m\u001b[0mstress_period_data\u001b[0m \u001b[1;33m=\u001b[0m \u001b[0mriv_spd\u001b[0m\u001b[1;33m,\u001b[0m \u001b[0mipakcb\u001b[0m\u001b[1;33m=\u001b[0m\u001b[1;36m53\u001b[0m\u001b[1;33m)\u001b[0m\u001b[1;33m\u001b[0m\u001b[1;33m\u001b[0m\u001b[0m\n\u001b[0m",
      "\u001b[1;31mNameError\u001b[0m: name 'riv_spd' is not defined"
     ]
    }
   ],
   "source": [
    "#attach river package\n",
    "riv = flopy.modflow.ModflowRiv(model=m1,stress_period_data = riv_spd, ipakcb=53)"
   ]
  },
  {
   "cell_type": "markdown",
   "metadata": {},
   "source": [
    "# 5. Plot the domains"
   ]
  },
  {
   "cell_type": "markdown",
   "metadata": {},
   "source": [
    "### Plan view of the domain"
   ]
  },
  {
   "cell_type": "code",
   "execution_count": 14,
   "metadata": {},
   "outputs": [
    {
     "ename": "AttributeError",
     "evalue": "'NoneType' object has no attribute 'parent'",
     "output_type": "error",
     "traceback": [
      "\u001b[1;31m---------------------------------------------------------------------------\u001b[0m",
      "\u001b[1;31mAttributeError\u001b[0m                            Traceback (most recent call last)",
      "\u001b[1;32m<ipython-input-14-48873d17ad2e>\u001b[0m in \u001b[0;36m<module>\u001b[1;34m\u001b[0m\n\u001b[0;32m      3\u001b[0m \u001b[0mgrid\u001b[0m \u001b[1;33m=\u001b[0m \u001b[0mmodelmap\u001b[0m\u001b[1;33m.\u001b[0m\u001b[0mplot_grid\u001b[0m\u001b[1;33m(\u001b[0m\u001b[1;33m)\u001b[0m\u001b[1;33m\u001b[0m\u001b[1;33m\u001b[0m\u001b[0m\n\u001b[0;32m      4\u001b[0m \u001b[0mib\u001b[0m \u001b[1;33m=\u001b[0m \u001b[0mmodelmap\u001b[0m\u001b[1;33m.\u001b[0m\u001b[0mplot_ibound\u001b[0m\u001b[1;33m(\u001b[0m\u001b[1;33m)\u001b[0m\u001b[1;33m\u001b[0m\u001b[1;33m\u001b[0m\u001b[0m\n\u001b[1;32m----> 5\u001b[1;33m \u001b[0mriv_plot\u001b[0m \u001b[1;33m=\u001b[0m \u001b[0mmodelmap\u001b[0m\u001b[1;33m.\u001b[0m\u001b[0mplot_bc\u001b[0m\u001b[1;33m(\u001b[0m\u001b[0mftype\u001b[0m\u001b[1;33m=\u001b[0m\u001b[1;34m'RIV'\u001b[0m\u001b[1;33m)\u001b[0m\u001b[1;33m\u001b[0m\u001b[1;33m\u001b[0m\u001b[0m\n\u001b[0m\u001b[0;32m      6\u001b[0m \u001b[0mchd_plot\u001b[0m \u001b[1;33m=\u001b[0m \u001b[0mmodelmap\u001b[0m\u001b[1;33m.\u001b[0m\u001b[0mplot_bc\u001b[0m\u001b[1;33m(\u001b[0m\u001b[0mftype\u001b[0m\u001b[1;33m=\u001b[0m\u001b[1;34m'CHD'\u001b[0m\u001b[1;33m)\u001b[0m\u001b[1;33m\u001b[0m\u001b[1;33m\u001b[0m\u001b[0m\n\u001b[0;32m      7\u001b[0m \u001b[1;31m#add labels and legend\u001b[0m\u001b[1;33m\u001b[0m\u001b[1;33m\u001b[0m\u001b[1;33m\u001b[0m\u001b[0m\n",
      "\u001b[1;32m~\\Anaconda3\\lib\\site-packages\\flopy\\plot\\map.py\u001b[0m in \u001b[0;36mplot_bc\u001b[1;34m(self, ftype, package, kper, color, plotAll, **kwargs)\u001b[0m\n\u001b[0;32m    453\u001b[0m \u001b[1;33m\u001b[0m\u001b[0m\n\u001b[0;32m    454\u001b[0m         \u001b[1;31m# trap for mf6 'cellid' vs mf2005 'k', 'i', 'j' convention\u001b[0m\u001b[1;33m\u001b[0m\u001b[1;33m\u001b[0m\u001b[1;33m\u001b[0m\u001b[0m\n\u001b[1;32m--> 455\u001b[1;33m         \u001b[1;32mif\u001b[0m \u001b[0mp\u001b[0m\u001b[1;33m.\u001b[0m\u001b[0mparent\u001b[0m\u001b[1;33m.\u001b[0m\u001b[0mversion\u001b[0m \u001b[1;33m==\u001b[0m \u001b[1;34m\"mf6\"\u001b[0m\u001b[1;33m:\u001b[0m\u001b[1;33m\u001b[0m\u001b[1;33m\u001b[0m\u001b[0m\n\u001b[0m\u001b[0;32m    456\u001b[0m             \u001b[1;32mtry\u001b[0m\u001b[1;33m:\u001b[0m\u001b[1;33m\u001b[0m\u001b[1;33m\u001b[0m\u001b[0m\n\u001b[0;32m    457\u001b[0m                 \u001b[0mmflist\u001b[0m \u001b[1;33m=\u001b[0m \u001b[0mp\u001b[0m\u001b[1;33m.\u001b[0m\u001b[0mstress_period_data\u001b[0m\u001b[1;33m.\u001b[0m\u001b[0marray\u001b[0m\u001b[1;33m[\u001b[0m\u001b[0mkper\u001b[0m\u001b[1;33m]\u001b[0m\u001b[1;33m\u001b[0m\u001b[1;33m\u001b[0m\u001b[0m\n",
      "\u001b[1;31mAttributeError\u001b[0m: 'NoneType' object has no attribute 'parent'"
     ]
    },
    {
     "data": {
      "image/png": "[encoded data removed]",
      "text/plain": [
       "<Figure size 432x288 with 1 Axes>"
      ]
     },
     "metadata": {
      "needs_background": "light"
     },
     "output_type": "display_data"
    }
   ],
   "source": [
    "#use flopy to plot grid, ibound, rivers, and general head boundaries\n",
    "modelmap = flopy.plot.PlotMapView(model=m1, layer=0)\n",
    "grid = modelmap.plot_grid()\n",
    "ib = modelmap.plot_ibound()\n",
    "riv_plot = modelmap.plot_bc(ftype='RIV')\n",
    "chd_plot = modelmap.plot_bc(ftype='CHD')\n",
    "#add labels and legend\n",
    "plt.xlabel('Lx (m)',fontsize = 14)\n",
    "plt.ylabel('Ly (m)',fontsize = 14)\n",
    "plt.title('Boundary Conditions', fontsize = 15, fontweight = 'bold')\n",
    "plt.legend(handles=[mp.patches.Patch(color='green',label='River',ec='black'),\n",
    "                   mp.patches.Patch(color='navy',label='Const Head Boundary',ec='black'),\n",
    "                   mp.patches.Patch(color='white',label='Active Cell',ec='black'),\n",
    "                   mp.patches.Patch(color='black',label='Inactive Cell',ec='black')],\n",
    "                   bbox_to_anchor=(1.8,1.0))\n",
    "plt.show(modelmap)\n",
    "#fig = plt.figure(figsize=(8, 8))\n",
    "#ax = fig.add_subplot(1, 1, 1, aspect='equal')\n",
    "#mapview = flopy.plot.PlotMapView(model=m1)\n",
    "#ibound = mapview.plot_ibound()\n",
    "#wel = mapview.plot_bc(\"WEL\")\n",
    "#linecollection = mapview.plot_grid()"
   ]
  },
  {
   "cell_type": "markdown",
   "metadata": {},
   "source": [
    "### Cross section of the layered model\n",
    "For more examples of cross section plotting check out this notebook: https://github.com/modflowpy/flopy/blob/develop/examples/Notebooks/flopy3.3_PlotCrossSection.ipynb "
   ]
  },
  {
   "cell_type": "code",
   "execution_count": 16,
   "metadata": {},
   "outputs": [
    {
     "name": "stderr",
     "output_type": "stream",
     "text": [
      "C:\\Users\\HG\\Anaconda3\\lib\\site-packages\\flopy\\plot\\plotbase.py:368: FutureWarning: Using a non-tuple sequence for multidimensional indexing is deprecated; use `arr[tuple(seq)]` instead of `arr[seq]`. In the future this will be interpreted as an array index, `arr[np.array(seq)]`, which will result either in an error or a different result.\n",
      "  plotarray[idx] = 1\n"
     ]
    },
    {
     "data": {
      "image/png": "[encoded data removed]",
      "text/plain": [
       "<Figure size 1080x360 with 1 Axes>"
      ]
     },
     "metadata": {
      "needs_background": "light"
     },
     "output_type": "display_data"
    }
   ],
   "source": [
    "fig = plt.figure(figsize=(15, 5))\n",
    "ax = fig.add_subplot(1, 1, 1)\n",
    "\n",
    "xsect = flopy.plot.PlotCrossSection(model=m1, line={'row': 24}) #note use the key 'column' if you want to plot a column instaed\n",
    "patches = xsect.plot_ibound(color_noflow='red', color_ch='blue')\n",
    "patches = xsect.plot_bc('WEL', color='red')\n",
    "linecollection = xsect.plot_grid(color='green')\n",
    "t = ax.set_title('Row 25 Cross-Section with IBOUND Boundary Conditions')"
   ]
  },
  {
   "cell_type": "markdown",
   "metadata": {},
   "source": [
    "# 5. Add particles to both scenarios\n"
   ]
  },
  {
   "cell_type": "code",
   "execution_count": 7,
   "metadata": {},
   "outputs": [],
   "source": [
    "moddirmp=\"C:/Users/HG/Documents/AHWR_582/hw6-layered-Gextes/Assignment/mpath7\""
   ]
  },
  {
   "cell_type": "markdown",
   "metadata": {},
   "source": [
    "#### Run model "
   ]
  },
  {
   "cell_type": "code",
   "execution_count": 9,
   "metadata": {},
   "outputs": [
    {
     "name": "stdout",
     "output_type": "stream",
     "text": [
      "ThreeLayer_mp\n",
      "FloPy is using the following  executable to run the model: C:/Users/HG/Documents/AHWR_582/hw6-layered-Gextes/Assignment/mpath7.exe\n",
      "\n",
      "MODPATH Version 7.2.001   \n",
      "Program compiled Dec 22 2017 11:11:36 with IFORT compiler (ver. 16.0.0)         \n",
      " \n",
      "forrtl: severe (157): Program Exception - access violation\n",
      "Image              PC                Routine            Line        Source             \n",
      "mpath7.exe         00007FF7EBA07E51  Unknown               Unknown  Unknown\n",
      "mpath7.exe         00007FF7EBA076E1  Unknown               Unknown  Unknown\n",
      "mpath7.exe         00007FF7EBA045D5  Unknown               Unknown  Unknown\n",
      "mpath7.exe         00007FF7EBA21E3D  Unknown               Unknown  Unknown\n",
      "mpath7.exe         00007FF7EBA38EFE  Unknown               Unknown  Unknown\n",
      "mpath7.exe         00007FF7EBAEA26E  Unknown               Unknown  Unknown\n",
      "mpath7.exe         00007FF7EBAEA669  Unknown               Unknown  Unknown\n",
      "KERNEL32.DLL       00007FFEE2197BD4  Unknown               Unknown  Unknown\n",
      "ntdll.dll          00007FFEE374CED1  Unknown               Unknown  Unknown\n"
     ]
    },
    {
     "data": {
      "text/plain": [
       "['MPBAS', 'MPSIM', 'RCH']"
      ]
     },
     "execution_count": 9,
     "metadata": {},
     "output_type": "execute_result"
    }
   ],
   "source": [
    "locsb = [[2, 0, 0, 2, nrow - 1, ncol-1]] #Set the range of cell to add particles to [layerstart, rowstart, colstart,  layerend, rowend,  colend]\n",
    "sd = flopy.modpath.CellDataType(drape=0, columncelldivisions=1, rowcelldivisions=1, layercelldivisions=3) #Number of part per cell\n",
    "p = flopy.modpath.LRCParticleData(subdivisiondata=[sd], lrcregions=[locsb]) #setup theparticles\n",
    "pg1 = flopy.modpath.ParticleGroupLRCTemplate(particlegroupname='PG1',particledata=p,filename='ex01a.pg1.sloc')\n",
    "particlegroups = [pg1]\n",
    "\n",
    "defaultiface = {'RECHARGE': 6, 'ET': 6}\n",
    "\n",
    "mpname1=os.path.join(modelname1 + '_mp')\n",
    "print(mpname1)\n",
    "mp1 = flopy.modpath.Modpath7(modelname=modelname1 + '_mp', flowmodel=m1, exe_name=moddirmp)\n",
    "mpbas = flopy.modpath.Modpath7Bas(mp1, porosity=n, defaultiface=defaultiface)\n",
    "mpsim = flopy.modpath.Modpath7Sim(mp1, simulationtype='combined',\n",
    "                                  trackingdirection='forward',\n",
    "                                  weaksinkoption='stop_at',\n",
    "                                  weaksourceoption='stop_at',\n",
    "                                  budgetoutputoption='summary',\n",
    "                                  stoptimeoption='extend', \n",
    "                                  particlegroups= particlegroups)\n",
    "\n",
    "\n",
    "mp1.add_package(rch)\n",
    "mp1.write_input()\n",
    "mp1.run_model()\n",
    "mp1.get_package_list()"
   ]
  },
  {
   "cell_type": "markdown",
   "metadata": {},
   "source": [
    "# 6. Read in the outputs\n",
    "\n",
    "###  Modflow outputs - Heads and budget files"
   ]
  },
  {
   "cell_type": "code",
   "execution_count": 10,
   "metadata": {},
   "outputs": [
    {
     "name": "stdout",
     "output_type": "stream",
     "text": [
      "[b'   CONSTANT HEAD', b'FLOW RIGHT FACE ', b'FLOW FRONT FACE ', b'        RECHARGE']\n",
      "[b'   CONSTANT HEAD', b'FLOW RIGHT FACE ', b'FLOW FRONT FACE ', b'FLOW LOWER FACE ', b'        RECHARGE']\n",
      "1\n"
     ]
    }
   ],
   "source": [
    " #Head - 3 layer model \n",
    "headobj = bf.HeadFile(modelname1+'.hds')    #reads the binary head file\n",
    "times = headobj.get_times()                #returns a list of timesteps\n",
    "head = headobj.get_data(totim=times[-1])        #returns a numpy array of heads for specified time (last timestep)\n",
    "\n",
    "\n",
    "#Water balance - 3 layer\n",
    "budgobj = bf.CellBudgetFile(modelname1+'.cbc')   #reads the cell budget file    \n",
    "print(budgobj.get_unique_record_names())\n",
    "kstpkper_list = budgobj.get_kstpkper()          #returns a list of stress periods & timesteps\n",
    "frf = budgobj.get_data(text='flow right face', totim=1.0) #returns an array of flow rates for right face of cells\n",
    "fff = budgobj.get_data(text='flow front face', totim=1.0) #returns an array of flow rates for front face of cells \n",
    "recharge = budgobj.get_data(text='RECHARGE', totim=1.0) \n",
    "print(len(frf))"
   ]
  },
  {
   "cell_type": "markdown",
   "metadata": {},
   "source": [
    "### Particle outputs "
   ]
  },
  {
   "cell_type": "code",
   "execution_count": 11,
   "metadata": {},
   "outputs": [
    {
     "ename": "FileNotFoundError",
     "evalue": "[Errno 2] No such file or directory: 'OneLayer_mp.mppth'",
     "output_type": "error",
     "traceback": [
      "\u001b[1;31m---------------------------------------------------------------------------\u001b[0m",
      "\u001b[1;31mFileNotFoundError\u001b[0m                         Traceback (most recent call last)",
      "\u001b[1;32m<ipython-input-11-48415ca1ee50>\u001b[0m in \u001b[0;36m<module>\u001b[1;34m\u001b[0m\n\u001b[0;32m      2\u001b[0m \u001b[1;31m#Particle pathlines\u001b[0m\u001b[1;33m\u001b[0m\u001b[1;33m\u001b[0m\u001b[1;33m\u001b[0m\u001b[0m\n\u001b[0;32m      3\u001b[0m \u001b[0mfpth1\u001b[0m \u001b[1;33m=\u001b[0m \u001b[0mos\u001b[0m\u001b[1;33m.\u001b[0m\u001b[0mpath\u001b[0m\u001b[1;33m.\u001b[0m\u001b[0mjoin\u001b[0m\u001b[1;33m(\u001b[0m\u001b[0mmpname1\u001b[0m \u001b[1;33m+\u001b[0m \u001b[1;34m'.mppth'\u001b[0m\u001b[1;33m)\u001b[0m\u001b[1;33m\u001b[0m\u001b[1;33m\u001b[0m\u001b[0m\n\u001b[1;32m----> 4\u001b[1;33m \u001b[0mp1\u001b[0m \u001b[1;33m=\u001b[0m \u001b[0mflopy\u001b[0m\u001b[1;33m.\u001b[0m\u001b[0mutils\u001b[0m\u001b[1;33m.\u001b[0m\u001b[0mPathlineFile\u001b[0m\u001b[1;33m(\u001b[0m\u001b[0mfpth1\u001b[0m\u001b[1;33m)\u001b[0m\u001b[1;33m\u001b[0m\u001b[1;33m\u001b[0m\u001b[0m\n\u001b[0m\u001b[0;32m      5\u001b[0m \u001b[1;33m\u001b[0m\u001b[0m\n\u001b[0;32m      6\u001b[0m \u001b[1;31m#Particle endpoints\u001b[0m\u001b[1;33m\u001b[0m\u001b[1;33m\u001b[0m\u001b[1;33m\u001b[0m\u001b[0m\n",
      "\u001b[1;32m~\\Anaconda3\\lib\\site-packages\\flopy\\utils\\modpathfile.py\u001b[0m in \u001b[0;36m__init__\u001b[1;34m(self, filename, verbose)\u001b[0m\n\u001b[0;32m     51\u001b[0m \u001b[1;33m\u001b[0m\u001b[0m\n\u001b[0;32m     52\u001b[0m         \u001b[1;31m# build index\u001b[0m\u001b[1;33m\u001b[0m\u001b[1;33m\u001b[0m\u001b[1;33m\u001b[0m\u001b[0m\n\u001b[1;32m---> 53\u001b[1;33m         \u001b[0mself\u001b[0m\u001b[1;33m.\u001b[0m\u001b[0m_build_index\u001b[0m\u001b[1;33m(\u001b[0m\u001b[1;33m)\u001b[0m\u001b[1;33m\u001b[0m\u001b[1;33m\u001b[0m\u001b[0m\n\u001b[0m\u001b[0;32m     54\u001b[0m \u001b[1;33m\u001b[0m\u001b[0m\n\u001b[0;32m     55\u001b[0m         \u001b[1;31m# set output dtype\u001b[0m\u001b[1;33m\u001b[0m\u001b[1;33m\u001b[0m\u001b[1;33m\u001b[0m\u001b[0m\n",
      "\u001b[1;32m~\\Anaconda3\\lib\\site-packages\\flopy\\utils\\modpathfile.py\u001b[0m in \u001b[0;36m_build_index\u001b[1;34m(self)\u001b[0m\n\u001b[0;32m     82\u001b[0m         \"\"\"\n\u001b[0;32m     83\u001b[0m         \u001b[0mself\u001b[0m\u001b[1;33m.\u001b[0m\u001b[0mskiprows\u001b[0m \u001b[1;33m=\u001b[0m \u001b[1;36m0\u001b[0m\u001b[1;33m\u001b[0m\u001b[1;33m\u001b[0m\u001b[0m\n\u001b[1;32m---> 84\u001b[1;33m         \u001b[0mself\u001b[0m\u001b[1;33m.\u001b[0m\u001b[0mfile\u001b[0m \u001b[1;33m=\u001b[0m \u001b[0mopen\u001b[0m\u001b[1;33m(\u001b[0m\u001b[0mself\u001b[0m\u001b[1;33m.\u001b[0m\u001b[0mfname\u001b[0m\u001b[1;33m,\u001b[0m \u001b[1;34m'r'\u001b[0m\u001b[1;33m)\u001b[0m\u001b[1;33m\u001b[0m\u001b[1;33m\u001b[0m\u001b[0m\n\u001b[0m\u001b[0;32m     85\u001b[0m         \u001b[1;32mwhile\u001b[0m \u001b[1;32mTrue\u001b[0m\u001b[1;33m:\u001b[0m\u001b[1;33m\u001b[0m\u001b[1;33m\u001b[0m\u001b[0m\n\u001b[0;32m     86\u001b[0m             \u001b[0mline\u001b[0m \u001b[1;33m=\u001b[0m \u001b[0mself\u001b[0m\u001b[1;33m.\u001b[0m\u001b[0mfile\u001b[0m\u001b[1;33m.\u001b[0m\u001b[0mreadline\u001b[0m\u001b[1;33m(\u001b[0m\u001b[1;33m)\u001b[0m\u001b[1;33m\u001b[0m\u001b[1;33m\u001b[0m\u001b[0m\n",
      "\u001b[1;31mFileNotFoundError\u001b[0m: [Errno 2] No such file or directory: 'OneLayer_mp.mppth'"
     ]
    }
   ],
   "source": [
    "\n",
    "#Particle pathlines\n",
    "fpth1 = os.path.join(mpname1 + '.mppth')\n",
    "p1 = flopy.utils.PathlineFile(fpth1)\n",
    "\n",
    "#Particle endpoints\n",
    "fpth1 = os.path.join(mpname1 + '.mpend')\n",
    "e1 = flopy.utils.EndpointFile(fpth1, verbose=False)\n",
    "\n",
    "#make a subset which is all the particles\n",
    "#pall3 = p3.get_alldata()  \n",
    "#eall3 = e3.get_alldata()\n",
    "        \n",
    "#make a subset which is particles ending in the well\n",
    "nodewell_1 = m1.dis.get_node([(2,well_1_row, well_1_col)])\n",
    "nodewell_2 = m1.dis.get_node([(0,well_2_row, well_2_col)])\n",
    "print(nodewell_1, nodewell_2)\n",
    "pwell1 = p1.get_destination_pathline_data(dest_cells=nodewell1)\n",
    "ewell1 = e1.get_destination_endpoint_data(dest_cells=nodewell1)"
   ]
  },
  {
   "cell_type": "markdown",
   "metadata": {},
   "source": [
    "# 6. Plotting\n",
    "#### Cross section plots"
   ]
  },
  {
   "cell_type": "code",
   "execution_count": 12,
   "metadata": {},
   "outputs": [
    {
     "data": {
      "image/png": "[encoded data removed]",
      "text/plain": [
       "<Figure size 1080x360 with 2 Axes>"
      ]
     },
     "metadata": {
      "needs_background": "light"
     },
     "output_type": "display_data"
    },
    {
     "data": {
      "image/png": "[encoded data removed]",
      "text/plain": [
       "<Figure size 1080x360 with 2 Axes>"
      ]
     },
     "metadata": {
      "needs_background": "light"
     },
     "output_type": "display_data"
    }
   ],
   "source": [
    "#### 1 layered model \n",
    "fig = plt.figure(figsize=(15, 5))\n",
    "ax = fig.add_subplot(1, 1, 1)\n",
    "\n",
    "xsect = flopy.plot.PlotCrossSection(model=m1, line={'row': 24}) #note use the key 'column' if you want to plot a column instaed\n",
    "pc = xsect.plot_array(head1, masked_values=[999.], head=head, alpha=0.5)\n",
    "patches = xsect.plot_ibound(head=head)\n",
    "#patches = xsect.plot_ibound(color_noflow='red', color_ch='blue')\n",
    "#patches = xsect.plot_bc('WEL', color='red')\n",
    "linecollection = xsect.plot_grid(color='black', lw=0.5)\n",
    "t = ax.set_title('1 Layer Model Row 25 Cross-Section')\n",
    "cb = plt.colorbar(pc, shrink=0.75)\n",
    "#Overlay the head in a layer of the model- in this case I'm doing the top layer i.e. head3[0,:,:]\n",
    "wt = xsect.plot_surface(head[0,:,:], masked_values=[999.], color='blue', lw=1)\n",
    "\n",
    "\n",
    "#### 3 layered model \n",
    "fig = plt.figure(figsize=(15, 5))\n",
    "ax = fig.add_subplot(1, 1, 1)\n",
    "\n",
    "xsect = flopy.plot.PlotCrossSection(model=m1, line={'row': 24}) #note use the key 'column' if you want to plot a column instaed\n",
    "pc = xsect.plot_array(head, masked_values=[999.], head=head3, alpha=0.5)\n",
    "patches = xsect.plot_ibound(head=head3)\n",
    "#patches = xsect.plot_ibound(color_noflow='red', color_ch='blue')\n",
    "#patches = xsect.plot_bc('WEL', color='red')\n",
    "linecollection = xsect.plot_grid(color='black', lw=0.5)\n",
    "t = ax.set_title('3 Layer Model Row 25 Cross-Section')\n",
    "cb = plt.colorbar(pc, shrink=0.75)\n",
    "#Overlay the head in a layer of the model- in this case I'm doing the top layer i.e. head3[0,:,:]\n",
    "wt = xsect.plot_surface(head[0,:,:], masked_values=[999.], color='blue', lw=1)\n"
   ]
  },
  {
   "cell_type": "markdown",
   "metadata": {},
   "source": [
    "### Plot particle pathlines"
   ]
  },
  {
   "cell_type": "code",
   "execution_count": 13,
   "metadata": {},
   "outputs": [
    {
     "ename": "NameError",
     "evalue": "name 'pwell3' is not defined",
     "output_type": "error",
     "traceback": [
      "\u001b[1;31m---------------------------------------------------------------------------\u001b[0m",
      "\u001b[1;31mNameError\u001b[0m                                 Traceback (most recent call last)",
      "\u001b[1;32m<ipython-input-13-ee3b8f052045>\u001b[0m in \u001b[0;36m<module>\u001b[1;34m\u001b[0m\n\u001b[0;32m      7\u001b[0m \u001b[0mmm\u001b[0m\u001b[1;33m.\u001b[0m\u001b[0mplot_grid\u001b[0m\u001b[1;33m(\u001b[0m\u001b[0mlw\u001b[0m\u001b[1;33m=\u001b[0m\u001b[1;36m0.5\u001b[0m\u001b[1;33m)\u001b[0m\u001b[1;33m\u001b[0m\u001b[1;33m\u001b[0m\u001b[0m\n\u001b[0;32m      8\u001b[0m \u001b[1;31m#mm.plot_pathline(pall1, layer='all', color='blue', lw=0.5, linestyle=':', label='not captured by wells') #,marker='o', markercolor='black', markersize=3, markerevery=5)\u001b[0m\u001b[1;33m\u001b[0m\u001b[1;33m\u001b[0m\u001b[1;33m\u001b[0m\u001b[0m\n\u001b[1;32m----> 9\u001b[1;33m \u001b[0mmm\u001b[0m\u001b[1;33m.\u001b[0m\u001b[0mplot_pathline\u001b[0m\u001b[1;33m(\u001b[0m\u001b[0mpwell3\u001b[0m\u001b[1;33m,\u001b[0m \u001b[0mlayer\u001b[0m\u001b[1;33m=\u001b[0m\u001b[1;34m'all'\u001b[0m\u001b[1;33m,\u001b[0m \u001b[0mcolor\u001b[0m\u001b[1;33m=\u001b[0m\u001b[1;34m'red'\u001b[0m\u001b[1;33m,\u001b[0m \u001b[0mlw\u001b[0m\u001b[1;33m=\u001b[0m\u001b[1;36m0.5\u001b[0m\u001b[1;33m,\u001b[0m \u001b[0mlinestyle\u001b[0m\u001b[1;33m=\u001b[0m\u001b[1;34m':'\u001b[0m\u001b[1;33m,\u001b[0m \u001b[0mlabel\u001b[0m\u001b[1;33m=\u001b[0m\u001b[1;34m'3 layer'\u001b[0m\u001b[1;33m)\u001b[0m \u001b[1;31m# ,marker='o', markercolor='black', markersize=3, markerevery=5)\u001b[0m\u001b[1;33m\u001b[0m\u001b[1;33m\u001b[0m\u001b[0m\n\u001b[0m\u001b[0;32m     10\u001b[0m \u001b[0mmm\u001b[0m\u001b[1;33m.\u001b[0m\u001b[0mplot_pathline\u001b[0m\u001b[1;33m(\u001b[0m\u001b[0mpwell1\u001b[0m\u001b[1;33m,\u001b[0m \u001b[0mlayer\u001b[0m\u001b[1;33m=\u001b[0m\u001b[1;34m'all'\u001b[0m\u001b[1;33m,\u001b[0m \u001b[0mcolor\u001b[0m\u001b[1;33m=\u001b[0m\u001b[1;34m'orange'\u001b[0m\u001b[1;33m,\u001b[0m \u001b[0mlw\u001b[0m\u001b[1;33m=\u001b[0m\u001b[1;36m0.5\u001b[0m\u001b[1;33m,\u001b[0m \u001b[0mlinestyle\u001b[0m\u001b[1;33m=\u001b[0m\u001b[1;34m':'\u001b[0m\u001b[1;33m,\u001b[0m \u001b[0mlabel\u001b[0m\u001b[1;33m=\u001b[0m\u001b[1;34m'1 layer'\u001b[0m\u001b[1;33m)\u001b[0m \u001b[1;31m# ,marker='o', markercolor='black', markersize=3, markerevery=5)\u001b[0m\u001b[1;33m\u001b[0m\u001b[1;33m\u001b[0m\u001b[0m\n\u001b[0;32m     11\u001b[0m \u001b[0mmm\u001b[0m\u001b[1;33m.\u001b[0m\u001b[0max\u001b[0m\u001b[1;33m.\u001b[0m\u001b[0mlegend\u001b[0m\u001b[1;33m(\u001b[0m\u001b[1;33m)\u001b[0m\u001b[1;33m;\u001b[0m\u001b[1;33m\u001b[0m\u001b[1;33m\u001b[0m\u001b[0m\n",
      "\u001b[1;31mNameError\u001b[0m: name 'pwell3' is not defined"
     ]
    },
    {
     "data": {
      "image/png": "[encoded data removed]",
      "text/plain": [
       "<Figure size 720x720 with 1 Axes>"
      ]
     },
     "metadata": {
      "needs_background": "light"
     },
     "output_type": "display_data"
    }
   ],
   "source": [
    "fig = plt.figure(figsize=(10, 10))\n",
    "ax = fig.add_subplot(1, 1, 1)\n",
    "\n",
    "ax.set_aspect('equal')\n",
    "ax.set_title('1 Layer Scenario Flowlines')\n",
    "mm = flopy.plot.PlotMapView(model=m1, ax=ax)\n",
    "mm.plot_grid(lw=0.5)\n",
    "#mm.plot_pathline(pall1, layer='all', color='blue', lw=0.5, linestyle=':', label='not captured by wells') #,marker='o', markercolor='black', markersize=3, markerevery=5)\n",
    "mm.plot_pathline(pwell3, layer='all', color='red', lw=0.5, linestyle=':', label='3 layer') # ,marker='o', markercolor='black', markersize=3, markerevery=5)\n",
    "mm.plot_pathline(pwell1, layer='all', color='orange', lw=0.5, linestyle=':', label='1 layer') # ,marker='o', markercolor='black', markersize=3, markerevery=5)\n",
    "mm.ax.legend();\n",
    "#plt.tight_layout();\n",
    "#plt.savefig('Pathlines.png')"
   ]
  },
  {
   "cell_type": "markdown",
   "metadata": {},
   "source": [
    "# Additional plots\n",
    "### Plot head transect"
   ]
  },
  {
   "cell_type": "code",
   "execution_count": 14,
   "metadata": {},
   "outputs": [
    {
     "data": {
      "image/png": "[encoded data removed]",
      "text/plain": [
       "<Figure size 432x288 with 1 Axes>"
      ]
     },
     "metadata": {
      "needs_background": "light"
     },
     "output_type": "display_data"
    }
   ],
   "source": [
    "fig4 = plt.figure() \n",
    "ax = fig4.add_subplot(1, 1, 1)\n",
    "\n",
    "x=np.arange(0,50000,1000) \n",
    "plt.plot(x,head[2,int(well_row),:],marker='o', color='green', markersize=4, linestyle='--', label=\"3 layer bottom\")\n",
    "plt.plot(x,head[0,int(well_row),:],marker='o', color='blue', markersize=4, linestyle='--', label=\"3 layer top\")\n",
    "plt.title('Head transect')\n",
    "plt.xlabel('X location')\n",
    "plt.ylabel('Head')\n",
    "plt.legend()\n",
    "plt.savefig('Head_Transect.png')\n"
   ]
  },
  {
   "cell_type": "markdown",
   "metadata": {},
   "source": [
    "### 3 Layer head contours"
   ]
  },
  {
   "cell_type": "code",
   "execution_count": 17,
   "metadata": {},
   "outputs": [
    {
     "name": "stdout",
     "output_type": "stream",
     "text": [
      "[ 0.         -0.10253461 -0.20611505 -0.3117753  -0.42052126 -0.53331316\n",
      " -0.651048   -0.7745218  -0.90439916 -1.0411651  -1.1850691  -1.3360555\n",
      " -1.4936836  -1.6570538  -1.8247138  -1.9945931  -2.1639478  -2.329357\n",
      " -2.4867728  -2.6316578  -2.7592087  -2.864676   -2.9437482  -2.9929583\n",
      " -3.010061   -2.9942808  -2.9464123  -2.8687205  -2.7646885  -2.6386492\n",
      " -2.4953744  -2.3396888  -2.1761532  -2.0088422  -1.8412062  -1.676017\n",
      " -1.5153809  -1.3607844  -1.2131697  -1.0730166  -0.94043183 -0.81521475\n",
      " -0.6969366  -0.58499104 -0.47864294 -0.37706333 -0.2793595  -0.18459527\n",
      " -0.09180462  0.        ]\n"
     ]
    },
    {
     "data": {
      "text/plain": [
       "<matplotlib.colorbar.Colorbar at 0x21bbdb0ec50>"
      ]
     },
     "execution_count": 17,
     "metadata": {},
     "output_type": "execute_result"
    },
    {
     "data": {
      "image/png": "[encoded data removed]",
      "text/plain": [
       "<Figure size 720x720 with 2 Axes>"
      ]
     },
     "metadata": {
      "needs_background": "light"
     },
     "output_type": "display_data"
    }
   ],
   "source": [
    "#f, axes = plt.subplots(ncols=1, nrows=2, figsize=(5, 10))\n",
    "fig3=plt.figure(figsize=(10,10))\n",
    "print(fff1[0][0][40])\n",
    "#print(frf3[0][2][40])\n",
    "\n",
    "modelmap = flopy.plot.PlotMapView(model=m1, layer=0) #use modelmap to attach plot to model\n",
    "#grid = modelmap.plot_grid() #plot model grid\n",
    "qm = modelmap.plot_ibound()  \n",
    "contour_levels = np.linspace(head3[0][0].min(),head3[0][0].max(),11) #set contour levels for contouring head\n",
    "head_contours = modelmap.contour_array(head3, levels=contour_levels) #create head contours\n",
    "#flows = modelmap.plot_discharge(frf3[0][0], fff3[0][0], head=head3[0]) #create discharge arrows\n",
    "\n",
    "#display parameters\n",
    "plt.xlabel('Lx (m)',fontsize = 14)\n",
    "plt.ylabel('Ly (m)',fontsize = 14)\n",
    "plt.title('1 layer scenario', fontsize = 15, fontweight = 'bold')\n",
    "plt.colorbar(head_contours,aspect=5)\n",
    "#plt.show(modelmap)\n",
    "#plt.savefig('WellScenario_vectors.png')   "
   ]
  },
  {
   "cell_type": "code",
   "execution_count": null,
   "metadata": {},
   "outputs": [],
   "source": []
  }
 ],
 "metadata": {
  "kernelspec": {
   "display_name": "Python 3",
   "language": "python",
   "name": "python3"
  },
  "language_info": {
   "codemirror_mode": {
    "name": "ipython",
    "version": 3
   },
   "file_extension": ".py",
   "mimetype": "text/x-python",
   "name": "python",
   "nbconvert_exporter": "python",
   "pygments_lexer": "ipython3",
   "version": "3.7.3"
  }
 },
 "nbformat": 4,
 "nbformat_minor": 2
}
