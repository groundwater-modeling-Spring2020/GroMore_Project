{
 "cells": [
  {
   "cell_type": "markdown",
   "metadata": {},
   "source": [
    "# Scenario\n",
    "\n",
    "## Scenario 1: Pre Development model, no seasonality\n",
    "\n",
    "Build the base model as described above without the proposed agricultural activity.\n",
    " * Run the model as steady state with no pumping from the town's well.\n",
    " * Calculate the flux from the stream to the groundwater\n",
    " * Also show a reverse particle track map to identify the source of the water to the stream.\n",
    " * Finally, report the water level at the monitoring wells and at the town's well (even though it isn't pumping for this scenario)."
   ]
  },
  {
   "cell_type": "markdown",
   "metadata": {},
   "source": [
    "# Import"
   ]
  },
  {
   "cell_type": "code",
   "execution_count": 1,
   "metadata": {},
   "outputs": [
    {
     "name": "stdout",
     "output_type": "stream",
     "text": [
      "flopy is installed in C:\\Users\\vivek\\Anaconda3\\lib\\site-packages\\flopy\n"
     ]
    }
   ],
   "source": [
    "import flopy\n",
    "import numpy as np\n",
    "import matplotlib as mp\n",
    "import os\n",
    "import flopy.utils.binaryfile as bf\n",
    "from mpl_toolkits.mplot3d import Axes3D\n",
    "import matplotlib.pyplot as plt\n",
    "from matplotlib import cm\n",
    "from matplotlib.ticker import LinearLocator, FormatStrFormatter\n",
    "import csv\n",
    "%matplotlib inline"
   ]
  },
  {
   "cell_type": "markdown",
   "metadata": {},
   "source": [
    "# Domain"
   ]
  },
  {
   "cell_type": "code",
   "execution_count": 11,
   "metadata": {},
   "outputs": [
    {
     "name": "stdout",
     "output_type": "stream",
     "text": [
      "[[[4.e-05 4.e-05 4.e-05 ... 0.e+00 0.e+00 0.e+00]\n",
      "  [4.e-05 4.e-05 4.e-05 ... 0.e+00 0.e+00 0.e+00]\n",
      "  [4.e-05 4.e-05 4.e-05 ... 0.e+00 0.e+00 0.e+00]\n",
      "  ...\n",
      "  [4.e-05 4.e-05 4.e-05 ... 0.e+00 0.e+00 0.e+00]\n",
      "  [4.e-05 4.e-05 4.e-05 ... 0.e+00 0.e+00 0.e+00]\n",
      "  [0.e+00 0.e+00 0.e+00 ... 0.e+00 0.e+00 0.e+00]]]\n",
      "25 49 50 0\n",
      "0 26 50 21\n"
     ]
    }
   ],
   "source": [
    "## Discretization in x/y\n",
    "nrow = 50\n",
    "ncol = 50\n",
    "\n",
    "dx = 1000 #width of one grid cell in x-dir (m)\n",
    "dy = 1000 #width of one grid cell in y-dir (m)\n",
    "\n",
    "Lx = ncol * dx #Total length of domain in x\n",
    "Ly = nrow * dy #Total length of domain in y\n",
    "\n",
    "## Discretization in z\n",
    "nlay = 3\n",
    "ztop=np.genfromtxt('base_model_elevs.csv',delimiter=',',dtype=float) #import \"dem\"\n",
    "ztop[0,0]=125 #is this the missing initial value\n",
    "\n",
    "zbot=np.zeros((nlay,nrow,ncol)) #bottom of domain is zero\n",
    "zbot[1,:,:]=40 #bottom of middle layer\n",
    "zbot[0,:,:]=45 #bottom of top layer\n",
    "\n",
    "##Static hydrogeologic variables \n",
    "n = 0.1\n",
    "Sy = 0.1\n",
    "Ss = 1e-4\n",
    "hka = 10 #this is the horizontal k for top, middle and bottom \n",
    "vka = 10 #vertical k for horizontal k for top, bottom, and left 20 cols for middle\n",
    "vka_mid = 0.0001 #vertical k for right 30 cols\n",
    "\n",
    "## Make a arrays for the K values\n",
    "#Set horizontal K\n",
    "Kh = np.zeros((nlay,nrow,ncol))     # define an array of zeros the size of the model grid (nlay, nrow, ncol)\n",
    "Kh[:,:,:] = hka                 # assign the original value to the entire array\n",
    "\n",
    "#set vertical K\n",
    "Kz = np.zeros((nlay,nrow,ncol))     # define an array of zeros the size of the model grid (nlay, nrow, ncol)\n",
    "Kz[:,:,:] = vka                   # assign the original value to the entire array\n",
    "Kz[1,:,20:] = vka_mid                 #Replace the K in the middle layer with the lower value\n",
    "\n",
    "\n",
    "nper=1\n",
    "nstp=1\n",
    "steady=[True]\n",
    "\n",
    "##Setting no flow triangles\n",
    "ibound=np.ones((nlay,nrow,ncol))                                                  \n",
    "ibound[:,:,0] = 0  #1st col = no flow       \n",
    "ibound[:,:,49] = -1  #last col = constant head \n",
    "\n",
    "ibound[:,0,:49]=0\n",
    "ibound[:,49,:49]=0\n",
    "ibound[:,1,:5]=0\n",
    "ibound[:,2,:4]=0\n",
    "ibound[:,3,:3]=0\n",
    "ibound[:,4,:2]=0\n",
    "\n",
    "ibound[:,48,:5]=0\n",
    "ibound[:,47,:4]=0\n",
    "ibound[:,46,:3]=0\n",
    "ibound[:,45,:2]=0\n",
    "\n",
    "ibound[1:,1,:7]=0\n",
    "ibound[1:,2,:6]=0\n",
    "ibound[1:,3,:5]=0\n",
    "ibound[1:,4,:4]=0\n",
    "ibound[1:,5,:3]=0\n",
    "ibound[1:,6,1]=0\n",
    "\n",
    "ibound[1:,48,:7]=0\n",
    "ibound[1:,47,:6]=0\n",
    "ibound[1:,46,:5]=0\n",
    "ibound[1:,45,:4]=0\n",
    "ibound[1:,44,:3]=0\n",
    "ibound[1:,43,1]=0\n",
    "\n",
    "ibound[2,1,:9]=0\n",
    "ibound[2,2,:8]=0\n",
    "ibound[2,3,:7]=0\n",
    "ibound[2,4,:6]=0\n",
    "ibound[2,5,:5]=0\n",
    "ibound[2,6,:4]=0\n",
    "ibound[2,7,:3]=0\n",
    "ibound[2,8,1]=0\n",
    "\n",
    "ibound[2,48,:9]=0\n",
    "ibound[2,47,:8]=0\n",
    "ibound[2,46,:7]=0\n",
    "ibound[2,45,:6]=0\n",
    "ibound[2,44,:5]=0\n",
    "ibound[2,43,:4]=0\n",
    "ibound[2,42,:3]=0\n",
    "ibound[2,41,1]=0\n",
    "\n",
    "#Setting up Recharge\n",
    "recharge_zone = np.zeros((1,nrow,ncol)) # define an array of zeros the size of the model grid\n",
    "\n",
    "rech1 = 4e-5 # m/day\n",
    "rech_llxy = [0,0]  # lower left xy coords\n",
    "rech_urxy = [15000,50000] # upper right xy coords\n",
    "##convert to rows and columns\n",
    "rech_rowll = int(np.floor((nrow-1)-(rech_llxy[1]/dy))) #convert the y location to a row\n",
    "rech_colll=int(np.floor(rech_llxy[0]/dx))          #convert the x location to a column\n",
    "rech_rowur = int(np.floor((nrow)-(rech_urxy[1]/dy))) #convert the y location to a row\n",
    "rech_colur=int(np.floor(rech_urxy[0]/dx))          #convert the x location to a column\n",
    "#print(rech_colll, rech_rowll, rech_colur, rech_rowur)\n",
    "\n",
    "recharge_zone[0,rech_rowur:rech_rowll, rech_colll:rech_colur] = rech1\n",
    "print(recharge_zone)\n",
    "\n",
    "# Setting up ET\n",
    "ET_zone = np.zeros((1,nrow,ncol))#ET in left half of domain is zero\n",
    "ET_right = 1e-5 #m/day ET over right of domain\n",
    "ET_rip =5e-5 #ET in riparian area\n",
    "extinction_depth = 10 #10m everywhere\n",
    "\n",
    "ET_right_llxy = [25000,0] #lower left corner xy for right half ET zone\n",
    "ET_right_urxy = [50000,50000]\n",
    "##convert to rows and columns\n",
    "ET_right_rowll = int(np.floor((nrow-1)-(ET_right_llxy[1]/dy))) #convert the y location to a row\n",
    "ET_right_colll=int(np.floor(ET_right_llxy[0]/dx))          #convert the x location to a column\n",
    "ET_right_rowur = int(np.floor((nrow)-(ET_right_urxy[1]/dy))) #convert the y location to a row\n",
    "ET_right_colur=int(np.floor(ET_right_urxy[0]/dx))          #convert the x location to a column\n",
    "print(ET_right_colll, ET_right_rowll, ET_right_colur, ET_right_rowur)\n",
    "\n",
    "ET_zone[0,ET_right_rowur:ET_right_rowll, ET_right_colll:ET_right_colur] = ET_right\n",
    "\n",
    "\n",
    "ET_rip_llxy = [0,23000]#lower left corner xy for riparian strip\n",
    "ET_rip_urxy = [50000,29000]\n",
    "##convert to rows and columns\n",
    "ET_rip_rowll = int(np.floor((nrow-1)-(ET_rip_llxy[1]/dy))) #convert the y location to a row\n",
    "ET_rip_colll=int(np.floor(ET_rip_llxy[0]/dx))          #convert the x location to a column\n",
    "ET_rip_rowur = int(np.floor((nrow)-(ET_rip_urxy[1]/dy))) #convert the y location to a row\n",
    "ET_rip_colur=int(np.floor(ET_rip_urxy[0]/dx))          #convert the x location to a column\n",
    "print(ET_rip_colll, ET_rip_rowll, ET_rip_colur, ET_rip_rowur)\n",
    "\n",
    "ET_zone[0,ET_rip_rowur:ET_rip_rowll, ET_rip_colll:ET_rip_colur] = ET_rip\n",
    "\n",
    "\n",
    "# Setting up well\n",
    "pumping1 = -0 # m3/day      pumping rate for water supply well  \n",
    "pumping2 = -0 # m^3/d             irrigation well pumping rate (for wheat)\n",
    "\n",
    "well_1_xy= [38000, 21000] # xy location of supply well \n",
    "well_1_row = np.floor((nrow-1)-(well_1_xy[1]/dy)) #convert the y location to a row (python row)\n",
    "well_1_col=np.floor(well_1_xy[0]/dx-1) #convert the x location to a column\n",
    "well_1_loc = [2,well_1_row,well_1_col] #Well loc (layer, row, column)\n",
    "\n",
    "well_2_xy= [14000, 12000] # xy location of irrigation well \n",
    "well_2_row = np.floor((nrow-1)-(well_2_xy[1]/dy)) #convert the y location to a row \n",
    "well_2_col=np.floor(well_2_xy[0]/dx-1) #convert the x location to a column\n",
    "well_2_loc = [0,well_2_row,well_2_col] #Well loc (layer, row, column)\n",
    "\n",
    "MW1_xy =[25000, 25000] # xy location of monitoring well 1 \n",
    "MW1_row = np.floor((nrow-1)-(MW1_xy[1]/dy))  \n",
    "MW1_col=np.floor(MW1_xy[0]/dx-1) \n",
    "MW1_loc = [0,MW1_row,MW1_col] \n",
    "\n",
    "MW2_xy = [12500, 12500] # xy location of smonitoring well 2 \n",
    "MW2_row = np.floor((nrow-1)-(MW2_xy[1]/dy)) \n",
    "MW2_col=np.floor(MW2_xy[0]/dx-1) \n",
    "MW2_loc = [0,MW2_row,MW2_col] \n",
    "\n",
    "#CHD package things\n",
    "    #assign heads at start and end of stress period\n",
    "strt_head = 70\n",
    "end_head = 70\n",
    "    #create list to hold stress period constant head boundary condition cells\n",
    "bound_sp1 = []\n",
    "    #assign constant head boundary cells on the left and right boundaries\n",
    "for lay in range(nlay):\n",
    "    for row in range(nrow):\n",
    "        #bound_sp1.append([lay,row,0,strt_head[scenario],end_head[scenario]]) #assigns all cells in 1st col\n",
    "        bound_sp1.append([lay,row,ncol-1,strt_head,end_head]) #assigns all cells in last col\n",
    "#create dictionary with stress period data\n",
    "chd_spd={0: bound_sp1}\n",
    "    \n",
    "# # setting up river package\n",
    "# riv_sp1=[]\n",
    "# k_rivbott=1 \n",
    "# sed_thick=1 \n",
    "# cond=k_rivbott*(dy)*(dx)/(sed_thick) \n",
    "# r_stage=0.5 \n",
    "# r_bott=49 \n",
    "# for i in range(nrow):\n",
    "#     riv_sp1.append([0,26,i,r_stage,cond,r_bott])\n",
    "# riv_spd={0:riv_sp1}"
   ]
  },
  {
   "cell_type": "markdown",
   "metadata": {},
   "source": [
    "# Setup and Run MODFLOW"
   ]
  },
  {
   "cell_type": "code",
   "execution_count": 3,
   "metadata": {},
   "outputs": [
    {
     "name": "stdout",
     "output_type": "stream",
     "text": [
      "Well 1 [layer, row, column, flux]: \n",
      " [2, 28.0, 37.0, 0]\n",
      "Well 2 [layer, row, column, flux]: \n",
      " [0, 37.0, 13.0, 0]\n",
      "Monitoring Well 1 [layer, row, column, flux]: \n",
      " [0, 24.0, 24.0, 0]\n",
      "Monitoring Well 2 [layer, row, column, flux]: \n",
      " [0, 36.0, 11.0, 0]\n",
      "FloPy is using the following  executable to run the model: C:\\WRDAPP\\MODFLOW\\mf2005.exe\n",
      "\n",
      "                                  MODFLOW-2005     \n",
      "    U.S. GEOLOGICAL SURVEY MODULAR FINITE-DIFFERENCE GROUND-WATER FLOW MODEL\n",
      "                             Version 1.12.00 2/3/2017                        \n",
      "\n",
      " Using NAME file: Scenario_1_2.nam \n",
      " Run start date and time (yyyy/mm/dd hh:mm:ss): 2020/04/16 13:12:53\n",
      "\n",
      " Solving:  Stress period:     1    Time step:     1    Ground-Water Flow Eqn.\n",
      " Run end date and time (yyyy/mm/dd hh:mm:ss): 2020/04/16 13:12:53\n",
      " Elapsed run time:  0.275 Seconds\n",
      "\n",
      "  Normal termination of simulation\n"
     ]
    }
   ],
   "source": [
    "#Initialize the model\n",
    "modelname = \"Scenario_1_2\"\n",
    "moddir=\"C:\\WRDAPP\\MODFLOW\\mf2005\"\n",
    "m = flopy.modflow.Modflow(modelname, exe_name = moddir)\n",
    "\n",
    "#Discretization - dis\n",
    "dis = flopy.modflow.ModflowDis(model=m, nlay=nlay, nrow=nrow, ncol=ncol, \n",
    "                               delr=dx, delc=dy, top=ztop, botm=zbot, \n",
    "                               itmuni = 4, lenuni = 2, \n",
    "                               nper=nper, steady=steady)\n",
    "\n",
    "# Boundary and initial conditions - bas\n",
    "H_init = np.ones((nlay, nrow, ncol), dtype=np.float32)  #as 1 everywhere \n",
    "H_init[:, :, ncol-1] = strt_head    #right boundary to 70\n",
    "bas = flopy.modflow.ModflowBas(m, ibound=ibound, strt=H_init)\n",
    "\n",
    "#Layer properties - lpf\n",
    "lpf = flopy.modflow.ModflowLpf(m, laytyp=1, hk=Kh, \n",
    "                               vka=Kz, ss=Ss,\n",
    "                               sy=Sy,storagecoefficient=True, ipakcb=53) \n",
    "\n",
    "#Recharge \n",
    "rch = flopy.modflow.mfrch.ModflowRch(model=m, rech=recharge_zone, ipakcb=53)     #create rch object\n",
    "\n",
    "#ET:\n",
    "evt = flopy.modflow.mfevt.ModflowEvt(m, surf=ztop, evtr=ET_zone, exdp=extinction_depth, ipakcb=53) \n",
    "\n",
    "#Setting up Wells\n",
    "\n",
    "well_1 = [i for i in well_1_loc] + [pumping1]\n",
    "print(\"Well 1 [layer, row, column, flux]: \\n\", well_1)\n",
    "well_2 = [i for i in well_2_loc] + [pumping2]\n",
    "print(\"Well 2 [layer, row, column, flux]: \\n\", well_2)\n",
    "Mwell_1 = [i for i in MW1_loc] + [0]\n",
    "print(\"Monitoring Well 1 [layer, row, column, flux]: \\n\", Mwell_1)\n",
    "Mwell_2 = [i for i in MW2_loc] + [0]\n",
    "print(\"Monitoring Well 2 [layer, row, column, flux]: \\n\", Mwell_2)\n",
    "\n",
    "\n",
    "wel_spd = {0: [well_1, well_2, Mwell_1, Mwell_2]}\n",
    "wel = flopy.modflow.ModflowWel(model=m, stress_period_data=wel_spd)\n",
    "\n",
    "    \n",
    "#Setup flopy CHD object\n",
    "chd = flopy.modflow.ModflowChd(model=m, stress_period_data=chd_spd)\n",
    "\n",
    "#attach river package\n",
    "riv = flopy.modflow.ModflowRiv(model=m,stress_period_data = riv_spd, ipakcb=53)\n",
    "\n",
    "\n",
    "# #Output control - OC \n",
    "# oc_spd = {}\n",
    "# for kper in range(nper):\n",
    "#     for kstp in range(nstp[kper]):\n",
    "#         oc_spd[(kper, kstp)] = ['save head',\n",
    "#                                             'save drawdown',\n",
    "#                                             'save budget',\n",
    "#                                             'print head',\n",
    "#                                             'print budget']\n",
    "\n",
    "spd = {(0,0):['print head', 'print budget', 'save head', 'save budget']} #create a dictionary for stress period data, where key (0,0) is associated with value ['print...'] \n",
    "oc = flopy.modflow.ModflowOc(model=m, stress_period_data=spd, compact=True)\n",
    "\n",
    "#Numerical solver - pcg\n",
    "pcg = flopy.modflow.ModflowPcg(model=m)\n",
    "\n",
    "#write the inputs\n",
    "m.write_input()    \n",
    "\n",
    "#Run the model \n",
    "success, mfoutput = m.run_model(pause=False, report=True)\n",
    "if not success:\n",
    "    raise Exception('MODFLOW did not terminate normally.')"
   ]
  },
  {
   "cell_type": "markdown",
   "metadata": {},
   "source": [
    "# Plotting the domain"
   ]
  },
  {
   "cell_type": "code",
   "execution_count": 4,
   "metadata": {
    "scrolled": true
   },
   "outputs": [
    {
     "data": {
      "text/plain": [
       "<matplotlib.legend.Legend at 0x27a6e86f688>"
      ]
     },
     "execution_count": 4,
     "metadata": {},
     "output_type": "execute_result"
    },
    {
     "data": {
      "image/png": "[encoded data removed]",
      "text/plain": [
       "<Figure size 432x288 with 1 Axes>"
      ]
     },
     "metadata": {
      "needs_background": "light"
     },
     "output_type": "display_data"
    }
   ],
   "source": [
    "#CHECK BOUNDARY CONDITIONS\n",
    "#use flopy to plot grid, ibound, rivers, and general head boundaries\n",
    "modelmap = flopy.plot.PlotMapView(model=m, layer=0)\n",
    "grid = modelmap.plot_grid()\n",
    "ib = modelmap.plot_ibound()\n",
    "\n",
    "#ET = modelmap.plot_array(ET_zone)\n",
    "#recharge = modelmap.plot_array(recharge_zone)\n",
    "riv_plot = modelmap.plot_bc(ftype='RIV')\n",
    "chd_plot = modelmap.plot_bc(ftype='CHD')\n",
    "wel_plot = modelmap.plot_bc(ftype='WEL')\n",
    "\n",
    "#add labels and legend\n",
    "plt.xlabel('Lx (m)',fontsize = 14)\n",
    "plt.ylabel('Ly (m)',fontsize = 14)\n",
    "plt.title('Boundary Conditions', fontsize = 15, fontweight = 'bold')\n",
    "plt.legend(handles=[mp.patches.Patch(color='green',label='River',ec='black'),\n",
    "                   mp.patches.Patch(color='navy',label='Const Head Boundary',ec='black'),\n",
    "                   mp.patches.Patch(color='white',label='Active Cell',ec='black'),\n",
    "                   mp.patches.Patch(color='black',label='Inactive Cell',ec='black'),\n",
    "                   mp.patches.Patch(color='Red',label='Well',ec='black')],\n",
    "                   bbox_to_anchor=(1.8,1.0))\n"
   ]
  },
  {
   "cell_type": "markdown",
   "metadata": {},
   "source": [
    "# Adding the Particles"
   ]
  },
  {
   "cell_type": "code",
   "execution_count": 5,
   "metadata": {},
   "outputs": [
    {
     "name": "stdout",
     "output_type": "stream",
     "text": [
      "FloPy is using the following  executable to run the model: C:\\WRDAPP\\modpath_7_2_001\\mpath7.exe\n",
      "\n",
      "MODPATH Version 7.2.001   \n",
      "Program compiled Dec 22 2017 11:11:36 with IFORT compiler (ver. 16.0.0)         \n",
      " \n",
      " \n",
      "Run particle tracking simulation ...\n",
      "Processing Time Step     1 Period     1.  Time =  1.00000E+00  Steady-state flow                                                    \n",
      "\n",
      "Particle Summary:\n",
      "         0 particles are pending release.\n",
      "         0 particles remain active.\n",
      "         0 particles terminated at boundary faces.\n",
      "         0 particles terminated at weak sink cells.\n",
      "         0 particles terminated at weak source cells.\n",
      "      2334 particles terminated at strong source/sink cells.\n",
      "         0 particles terminated in cells with a specified zone number.\n",
      "         0 particles were stranded in inactive or dry cells.\n",
      "         0 particles were unreleased.\n",
      "         0 particles have an unknown status.\n",
      " \n",
      "Normal termination.                                                        \n"
     ]
    },
    {
     "data": {
      "text/plain": [
       "['MPBAS', 'MPSIM', 'RCH']"
      ]
     },
     "execution_count": 5,
     "metadata": {},
     "output_type": "execute_result"
    }
   ],
   "source": [
    "moddirmp=\"C:\\WRDAPP\\modpath_7_2_001\\mpath7\"\n",
    "mpname=os.path.join(modelname + '_mp')\n",
    "\n",
    "\n",
    "locsb = [[0, 0, 0, 0, nrow - 1, ncol-1]]\n",
    "#set the number of particles per cell\n",
    "sd = flopy.modpath.CellDataType(drape=0, columncelldivisions=1, rowcelldivisions=1, layercelldivisions=1)\n",
    "#setup theparticles\n",
    "p = flopy.modpath.LRCParticleData(subdivisiondata=[sd], lrcregions=[locsb])\n",
    "pg2 = flopy.modpath.ParticleGroupLRCTemplate(particlegroupname='PG1',particledata=p,filename='ex01a.pg1.sloc')\n",
    "particlegroups = [pg2]\n",
    "\n",
    "defaultiface = {'RECHARGE': 6, 'ET': 6}\n",
    "\n",
    "#setup  the modpath packages\n",
    "mp = flopy.modpath.Modpath7(modelname=modelname + '_mp', flowmodel=m, exe_name=moddirmp)\n",
    "mpbas = flopy.modpath.Modpath7Bas(mp, porosity=n, defaultiface=defaultiface)\n",
    "mpsim = flopy.modpath.Modpath7Sim(mp, simulationtype='combined',\n",
    "                                  trackingdirection='forward',\n",
    "                                  weaksinkoption='stop_at',\n",
    "                                  weaksourceoption='stop_at',\n",
    "                                  budgetoutputoption='summary',\n",
    "                                  stoptimeoption='extend', \n",
    "                                  particlegroups= particlegroups)\n",
    "\n",
    "mp.add_package(rch)\n",
    "# write modpath datasets\n",
    "mp.write_input()\n",
    "\n",
    "# run modpath\n",
    "mp.run_model()\n",
    "\n",
    "mp.get_package_list()"
   ]
  },
  {
   "cell_type": "markdown",
   "metadata": {},
   "source": [
    "# Reading the outputs"
   ]
  },
  {
   "cell_type": "code",
   "execution_count": 6,
   "metadata": {},
   "outputs": [
    {
     "name": "stdout",
     "output_type": "stream",
     "text": [
      "[rec.array([(1301, 0.), (1302, 0.), (1303, 0.), (1304, 0.), (1305, 0.),\n",
      "           (1306, 0.), (1307, 0.), (1308, 0.), (1309, 0.), (1310, 0.),\n",
      "           (1311, 0.), (1312, 0.), (1313, 0.), (1314, 0.), (1315, 0.),\n",
      "           (1316, 0.), (1317, 0.), (1318, 0.), (1319, 0.), (1320, 0.),\n",
      "           (1321, 0.), (1322, 0.), (1323, 0.), (1324, 0.), (1325, 0.),\n",
      "           (1326, 0.), (1327, 0.), (1328, 0.), (1329, 0.), (1330, 0.),\n",
      "           (1331, 0.), (1332, 0.), (1333, 0.), (1334, 0.), (1335, 0.),\n",
      "           (1336, 0.), (1337, 0.), (1338, 0.), (1339, 0.), (1340, 0.),\n",
      "           (1341, 0.), (1342, 0.), (1343, 0.), (1344, 0.), (1345, 0.),\n",
      "           (1346, 0.), (1347, 0.), (1348, 0.), (1349, 0.), (1350, 0.)],\n",
      "          dtype=[('node', '<i4'), ('q', '<f4')])]\n"
     ]
    }
   ],
   "source": [
    "#extract binary data from head file\n",
    "times = [0] #extract times at end of each stress period\n",
    "head = {} #create dictionary to store head data at end of each stress period\n",
    "frf = {} #create dictionary to store flows through right cell face at end of each stress period\n",
    "fff = {} #create dictionary to store flows through front cell face at end of each stress period\n",
    "storage = {} #create dictionary to store storage at end of each stress period\n",
    "consthead = {} #create dictionary to store constant head boundary at end of each stress period\n",
    "leakage = {} #create dictionary to store leakage at end of each stress period\n",
    "\n",
    "headobj = flopy.utils.binaryfile.HeadFile(modelname+'.hds') #get head data as python object\n",
    "budgobj = flopy.utils.binaryfile.CellBudgetFile(modelname+'.cbc') #get flow data as python object\n",
    "\n",
    "# with open('FP_heads.csv', 'w', newline='') as csvfile:  #creates an empty csv file called FP_heads\n",
    "#     writer = csv.writer(csvfile, delimiter=',')        \n",
    "#     for i in range(len(head[0,:,0])):                    #writes each row\n",
    "#         writer.writerow(head[0,i,:])\n",
    "\n",
    "#get data from python objects\n",
    "head = headobj.get_data(totim=1.0) #append heads to head list for ea stress per\n",
    "frf = budgobj.get_data(text='FLOW RIGHT FACE',totim=1.0) #append right face flow to frf list for ea stress per\n",
    "fff = budgobj.get_data(text='FLOW FRONT FACE',totim=1.0) #append front face flow to fff list for ea stress per\n",
    "#storage = budgobj.get_data(text='STORAGE',totim=1.0) #append front face flow to fff list for ea stress per\n",
    "consthead = budgobj.get_data(text='CONSTANT HEAD',totim=1.0) #append front face flow to fff list for ea stress per\n",
    "leakage = budgobj.get_data(text='RIVER LEAKAGE',totim=1.0) #append front face flow to fff list for ea stress per\n",
    "\n",
    "print(leakage)"
   ]
  },
  {
   "cell_type": "markdown",
   "metadata": {},
   "source": [
    "# Reading the particle files "
   ]
  },
  {
   "cell_type": "code",
   "execution_count": 7,
   "metadata": {},
   "outputs": [],
   "source": [
    "#load in the flow path file\n",
    "fpth = os.path.join(mpname + '.mppth')\n",
    "p = flopy.utils.PathlineFile(fpth)\n",
    "\n",
    "#load in the end point file\n",
    "fpth = os.path.join(mpname + '.mpend')\n",
    "e = flopy.utils.EndpointFile(fpth, verbose=False)\n",
    "\n",
    "#make a subset which is all the particles\n",
    "pall = p.get_alldata()  #formerly pwb and ewb\n",
    "eall = e.get_alldata()\n",
    "\n",
    "#make a subset which is the partlces that end in the well \n",
    "rivernodes = list(range(1301, 1350))\n",
    "#print(rivernodes)\n",
    "priver = p.get_destination_pathline_data(dest_cells=rivernodes)\n",
    "eriver= e.get_destination_endpoint_data(dest_cells=rivernodes)"
   ]
  },
  {
   "cell_type": "markdown",
   "metadata": {},
   "source": [
    "# Plotting Flowlines"
   ]
  },
  {
   "cell_type": "code",
   "execution_count": 8,
   "metadata": {},
   "outputs": [
    {
     "data": {
      "image/png": "[encoded data removed]",
      "text/plain": [
       "<Figure size 432x288 with 1 Axes>"
      ]
     },
     "metadata": {
      "needs_background": "light"
     },
     "output_type": "display_data"
    }
   ],
   "source": [
    "modelmap = flopy.plot.PlotMapView(model=m, layer=0)\n",
    "grid = modelmap.plot_grid()\n",
    "ib = modelmap.plot_ibound()\n",
    "\n",
    "modelmap.plot_pathline(pall, layer='all', color='blue', lw=0.5, linestyle=':', label='not captured by wells') #,marker='o', markercolor='black', markersize=3, markerevery=5)\n",
    "modelmap.plot_pathline(priver, layer='all', color='green', lw=0.5, linestyle=':', label='captured by well') # ,marker='o', markercolor='black', markersize=3, markerevery=5)\n",
    "plt.show(modelmap)\n",
    "\n"
   ]
  },
  {
   "cell_type": "markdown",
   "metadata": {},
   "source": [
    "# Plotting Heads"
   ]
  },
  {
   "cell_type": "code",
   "execution_count": 9,
   "metadata": {},
   "outputs": [
    {
     "name": "stdout",
     "output_type": "stream",
     "text": [
      "Head at Monitoring Well 1 =  -1e+30\n",
      "Head at Monitoring Well 2 =  -1e+30\n",
      "Head at Community Well 1 =  75.998695\n"
     ]
    }
   ],
   "source": [
    "#Checking heads at the wells\n",
    "\n",
    "print(\"Head at Monitoring Well 1 = \", head[0, int(MW1_row), int(MW2_col)])\n",
    "print(\"Head at Monitoring Well 2 = \", head[0, int(MW2_row), int(MW2_col)])\n",
    "print(\"Head at Community Well 1 = \", head[2, int(well_1_row), int(well_1_col)])\n"
   ]
  },
  {
   "cell_type": "code",
   "execution_count": 10,
   "metadata": {},
   "outputs": [
    {
     "name": "stdout",
     "output_type": "stream",
     "text": [
      "[0. 0. 0. 0. 0. 0. 0. 0. 0. 0. 0. 0. 0. 0. 0. 0. 0. 0. 0. 0. 0. 0. 0. 0.\n",
      " 0. 0. 0. 0. 0. 0. 0. 0. 0. 0. 0. 0. 0. 0. 0. 0. 0. 0. 0. 0. 0. 0. 0. 0.\n",
      " 0. 0.]\n",
      "[ -0.       45.10432  68.54664  93.12805 118.49098 144.67108 171.7765\n",
      " 199.91066 229.14209 259.48514 290.88977 323.2469  356.40918 390.21695\n",
      " 424.51877 419.18402 414.107   409.20645 404.42224 399.7114  395.04382\n",
      " 390.39886 385.76202 381.1221  376.4683  365.26813 354.82864 345.10004\n",
      " 336.0392  327.60974 319.78088 312.5252  305.81815 299.6371  294.01535\n",
      " 288.65002 283.59717 278.85974 274.4435  270.36087 266.62488 263.24915\n",
      " 260.24817 257.63718 255.43132 253.64525 252.2923  251.38356 250.9271\n",
      "   0.     ]\n"
     ]
    },
    {
     "data": {
      "image/png": "[encoded data removed]",
      "text/plain": [
       "<Figure size 720x720 with 2 Axes>"
      ]
     },
     "metadata": {
      "needs_background": "light"
     },
     "output_type": "display_data"
    }
   ],
   "source": [
    "#f, axes = plt.subplots(ncols=1, nrows=2, figsize=(5, 10))\n",
    "fig3=plt.figure(figsize=(10,10))\n",
    "print(fff[0][0][40])\n",
    "print(frf[0][2][40])\n",
    "\n",
    "modelmap = flopy.plot.PlotMapView(model=m, layer=2) #use modelmap to attach plot to model\n",
    "#grid = modelmap.plot_grid() #plot model grid\n",
    "qm = modelmap.plot_ibound()  \n",
    "contour_levels = np.linspace(head[0][0].min(),head[0][0].max(),11) #set contour levels for contouring head\n",
    "head_contours = modelmap.contour_array(head, levels=contour_levels) #create head contours\n",
    "#flows = modelmap.plot_discharge(frf1[0][0], fff1[0][0], head=head1[0]) #create discharge arrows\n",
    "\n",
    "#display parameters\n",
    "plt.xlabel('Lx (m)',fontsize = 14)\n",
    "plt.ylabel('Ly (m)',fontsize = 14)\n",
    "plt.title('Heads', fontsize = 15, fontweight = 'bold')\n",
    "plt.colorbar(head_contours,aspect=5)\n",
    "plt.show(modelmap)\n",
    "#plt.savefig('WellScenario_vectors.png')   "
   ]
  },
  {
   "cell_type": "code",
   "execution_count": null,
   "metadata": {},
   "outputs": [],
   "source": []
  },
  {
   "cell_type": "code",
   "execution_count": null,
   "metadata": {},
   "outputs": [],
   "source": []
  }
 ],
 "metadata": {
  "kernelspec": {
   "display_name": "Python 3",
   "language": "python",
   "name": "python3"
  },
  "language_info": {
   "codemirror_mode": {
    "name": "ipython",
    "version": 3
   },
   "file_extension": ".py",
   "mimetype": "text/x-python",
   "name": "python",
   "nbconvert_exporter": "python",
   "pygments_lexer": "ipython3",
   "version": "3.8.2"
  }
 },
 "nbformat": 4,
 "nbformat_minor": 4
}
