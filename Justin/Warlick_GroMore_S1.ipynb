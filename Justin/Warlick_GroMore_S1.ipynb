{
 "cells": [
  {
   "cell_type": "markdown",
   "metadata": {},
   "source": [
    "# Domain Description\n",
    "\n",
    "The model should have 50x50 cells, each 1000 m in x and in y. The porosity is 0.10, specific yield is 0.10, and storage coefficient is 0.0001. There are three layers. The medium is homogeneous within each layer. The K of the top and bottom layers is 10 m/day in all three principal directions. K of the middle layer is the same as the lower layer in the leftmost 20 columns, but it is 0.0001 m/day in the z direction in the remaining columns. The bottom of the domain is topographically flat and the bottom layer is 40 m thick. The middle layer is 5 m thick and is also flat. The top layer elevation is provided in an Excel file below. The top left and bottom left corners of the domain are 'rounded' by bedrock. Specifically, in the top, there is a triangle of no flow cells (added under BCs) extending from row 45, column 1 to row 50, column 6, inclusive, comprising a total of 21 no flow cells. There is a symmetric no flow region in the top left corner. The middle layer has similar regions extending from row 43, column 1 to row 50, column 8. The bottom layer: row 41, column 1 to row 50, column 10.\n",
    "\n",
    "The right boundary in all of the layers has a constant head of 70 m relative to the datum, which is located at the bottom of the domain. All other boundaries are no flow.\n",
    "\n",
    "Recharge occurs at a rate of 4E-5 m/day in the leftmost 15 columns and is zero elsewhere.\n",
    "\n",
    "A stream extends from the left to the right boundary in row 26. The stream width, length, and thickness are 1.0. No flow is entering the stream (from tributaries).\n",
    "\n",
    "The K of the streambed is 1000 m/day The streambed elevation is 1.0 m below ground surface and the stage is 0.5 m.\n",
    "\n",
    "The stream is a 'weak sink' with a strength of 0.5, meaning that half of the particles that enter a stream cell are captured by the stream. (This is set under MODPATH/Particle Options.).\n",
    "\n",
    "ET is zero in the left half of the domain. ET is 1E-5 m/day in the right half of the domain. ET occurs at a rate of 5E-5 m/day in a riparian area that extends from the left boundary to the right boundary and occupies rows 23 to 29, inclusive. The extinction depth is 10 m everywhere.\n",
    "\n",
    "There is a well that is used for water supply by the local community, which is completed in the bottom layer at row 21 and column 38. It is pumped at a rate of 1500 m3/day.\n",
    "\n",
    "The description above defines the system before a proposed new agricultural project is realized. The ag field is proposed to cover a 2000 m by 2000 m area; 1/8th of the area will be irrigated agriculture at any time (the field area is multiplied by 0.125). The rectangular irrigated fields extend between rows 21 and 22 (inclusive) and columns 19 and 20 (inclusive).\n",
    "\n",
    "ET for the crop is zero - it is accounted for in the calculated recharge beneath the field. The recharge rate is assumed to be 20% of the water demand of the crop, representing intentional excess irrigation to avoid soil salinization. The water uses of wheat, pistachios, and cotton on a daily basis are: 0.004; 0.006; and 0.008 m/day. This leads to recharge rates of (e.g. 0.004 * 0.125 * 0.2 = 0.0001): 0.0001, 0.00015, and 0.0002 m/day for these crops, respectively.\n",
    "\n",
    "Water is provided for irrigation from a well that is completed in the top layer at row 12 and column 14. The pumping rate is equal to the crop water demand plus 20% for excess irrigation plus 30% for irrigation inefficiency. For wheat, the pumping rate is 0.004 *0.125 * (1.0+0.2+0.3) * 2000 * 2000 = 3000 m3/day). The resulting pumping rates are: 3000; 4500; and 6000 m3/day for wheat, pistachios, and cotton, respectively.\n",
    "\n",
    "Add two ‘monitoring wells’ to monitor the transient conditions. Both should be in layer one, one at [25000, 25000] and the other at [12500, 12500].\n",
    "\n",
    "For simplicity, we will consider a year to be comprised of 12 30-day months."
   ]
  },
  {
   "cell_type": "markdown",
   "metadata": {},
   "source": [
    "# Scenarios\n",
    "\n",
    "## Scenario 1: Pre Development model, no seasonality\n",
    "\n",
    "Build the base model as described above without the proposed agricultural activity.\n",
    " * Run the model as steady state with no pumping from the town's well.\n",
    " * Calculate the flux from the stream to the groundwater\n",
    " * Also show a reverse particle track map to identify the source of the water to the stream.\n",
    " * Finally, report the water level at the monitoring wells and at the town's well (even though it isn't pumping for this scenario)."
   ]
  },
  {
   "cell_type": "markdown",
   "metadata": {},
   "source": [
    "# Import"
   ]
  },
  {
   "cell_type": "code",
   "execution_count": 3,
   "metadata": {},
   "outputs": [
    {
     "name": "stdout",
     "output_type": "stream",
     "text": [
      "flopy is installed in /Library/Frameworks/Python.framework/Versions/3.8/lib/python3.8/site-packages/flopy\n"
     ]
    }
   ],
   "source": [
    "import flopy\n",
    "import numpy as np\n",
    "import matplotlib as mp\n",
    "import os\n",
    "import flopy.utils.binaryfile as bf\n",
    "from mpl_toolkits.mplot3d import Axes3D\n",
    "import matplotlib.pyplot as plt\n",
    "from matplotlib import cm\n",
    "from matplotlib.ticker import LinearLocator, FormatStrFormatter\n",
    "import csv\n",
    "%matplotlib inline"
   ]
  },
  {
   "cell_type": "markdown",
   "metadata": {},
   "source": [
    "# Inputs"
   ]
  },
  {
   "cell_type": "code",
   "execution_count": 5,
   "metadata": {},
   "outputs": [
    {
     "name": "stdout",
     "output_type": "stream",
     "text": [
      "[[125.  124.  123.  ...  98.7  98.6  98.5]\n",
      " [124.  123.  122.  ...  97.7  97.6  97.5]\n",
      " [123.  122.  121.  ...  96.7  96.6  96.5]\n",
      " ...\n",
      " [122.  121.  120.  ...  95.7  95.6  95.5]\n",
      " [123.  122.  121.  ...  96.7  96.6  96.5]\n",
      " [124.  123.  122.  ...  97.7  97.6  97.5]]\n"
     ]
    }
   ],
   "source": [
    "nrow=50\n",
    "ncol=50\n",
    "nlay=3\n",
    "dx=ncol/dx\n",
    "dy=nrow/dy\n",
    "Lx=1000\n",
    "Ly=1000\n",
    "ztop=np.genfromtxt('base_model_elevs.csv',delimiter=',',dtype=float)\n",
    "ztop[0,0]=125\n",
    "zbot=0\n",
    "nper=1\n",
    "steady=[True]\n",
    "hk=1.\n",
    "vka=1.\n",
    "n=0.1\n",
    "Sy=0.1\n",
    "Ss=1e-4\n"
   ]
  },
  {
   "cell_type": "code",
   "execution_count": null,
   "metadata": {},
   "outputs": [],
   "source": []
  }
 ],
 "metadata": {
  "kernelspec": {
   "display_name": "Python 3.8.1 64-bit",
   "language": "python",
   "name": "python38164bit2f0134f55940400eb0876de1479dc1ae"
  },
  "language_info": {
   "codemirror_mode": {
    "name": "ipython",
    "version": 3
   },
   "file_extension": ".py",
   "mimetype": "text/x-python",
   "name": "python",
   "nbconvert_exporter": "python",
   "pygments_lexer": "ipython3",
   "version": "3.8.1"
  }
 },
 "nbformat": 4,
 "nbformat_minor": 4
}
