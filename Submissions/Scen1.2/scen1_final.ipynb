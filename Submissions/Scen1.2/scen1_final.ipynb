{
 "cells": [
  {
   "cell_type": "markdown",
   "metadata": {},
   "source": [
    "# GroMore - Scenario 1\n",
    "\n",
    "This is a steady state box model with recharge and ET. An additional layer was also added to the model.\n",
    "\n",
    "#### Dimensions: \n",
    "- 50 by 50 by 1\n",
    "- dx = dy = 1000 m\n",
    "- dz = varied \n",
    "- three layers\n",
    "\n",
    "#### Topography\n",
    "- Top layer elevation given in csv file\n",
    "- Middle layer is flat and 5m thick\n",
    "- Bottom layer (Layer 3) is flat and 40m thick\n",
    "\n",
    "#### Subsurface Properties: \n",
    "- Porosity = 0.1\n",
    "- Specific yield = 0.1\n",
    "- Storage coefficient=0.0001 \n",
    "- Homogeneous in each layer\n",
    "##### Layers\n",
    " - Layer 1 = Layer 3\n",
    "     - Kx=Ky=Kz= 10m/d\n",
    " - Layer 2 \n",
    "     - 20 leftmost columns, Kx=Ky=Kz= 10m/d\n",
    "     - Other columns, Kz= 0.0001m/d\n",
    "\n",
    "#### Boundary Conditions: \n",
    " - Right boundary is a constant head of 70 m relative to datum for all layers (datum is at bottom of domain)\n",
    " - All other boundaries are no flow\n",
    " - Top left corner: no flow\n",
    "     - Extends from row 45, column 1 to row 50, column 6, inclusive, comprising a total of 21 no flow cells\n",
    " - A symmetric no flow region exists in the bottom left corner\n",
    "     - row 41, column 1 to row 50, column 10.\n",
    " - Middle layer has no flow regions\n",
    "     - Extends from row 43, column 1 to row 50, column 8 \n",
    " \n",
    "#### ET: \n",
    "- Zero in left half\n",
    "- 1E-5 m/day in the right half of the domain\n",
    "- Riparian zone\n",
    "    - Extends from left to right boundary of rows 23 to 29, inclusive\n",
    "    - Rate: 5E-5m/d\n",
    "- Extinction depth= 10m\n",
    " \n",
    "#### Recharge: \n",
    " - Leftmost 15 columns at a rate of 4E-5 m/d\n",
    " - Zero everywhere else\n",
    "\n",
    "#### Stream:\n",
    "- Begins in left boundary and goes to the right in row 26\n",
    "- width=length=thickness= 1.0\n",
    "- No flow is entering the stream\n",
    "- streambed\n",
    "    - K= 1000m/d\n",
    "    - elevation= 1.0m below ground surface\n",
    "    - stage= 0.5m\n",
    "- \"weak sink\" with strength 0.5 (This is set under MODPATH/Particle Options.)\n",
    " \n",
    "#### Well: \n",
    " - Pumping well for Aquaseca\n",
    "     - Completed in bottom layer\n",
    "     - Located at row 21, column 38\n",
    "     - Pumping at a rate of 1500 m^3/day \n",
    "\n",
    "## Model Description after GroMore proposal \n",
    "\n",
    "#### Ag field:\n",
    "- cover a 2000m by 2000m area\n",
    "- 1/8th of the area will be irrigated agriculture at any time (the field area is multiplied by 0.125). \n",
    "- Rectangular irrigated fields extend between rows 21 and 22 (inclusive) and columns 19 and 20 (inclusive).\n",
    "\n",
    "##### ET\n",
    "- ET for the crop is zero - it is accounted for in the calculated recharge \n",
    "\n",
    "##### Recharge\n",
    "- Rate is 20% of the water demand of the crop, representing intentional excess irrigation to avoid soil salinization\n",
    "- Crop water uses/recharge rates:\n",
    "    - Wheat= 0.004m/d / 0.0001m/d\n",
    "    - Pistachios= 0.006m/d / 0.00015m/d\n",
    "    - Cotton: 0.008 m/d / 0.0002 m/d\n",
    "    \n",
    "##### Pumping Well:\n",
    "- Completed in top layer\n",
    "- Row 12 and column 14\n",
    "- Pumping rate equal to the crop water demand plus 20% for excess irrigation plus 30% for irrigation inefficiency\n",
    "    - Wheat= 3000 m3/day\n",
    "    - Pistachos= 4500 m3/d\n",
    "    - Cotton= 6000 m3/d\n",
    "    \n",
    "##### Monitoring wells\n",
    "- Two monitoring in transient conditions\n",
    "    - One at [25000, 25000] \n",
    "    - Other at [12500, 12500].\n",
    "\n",
    "*For simplicity, we will consider a year to be comprised of 12 30-day months."
   ]
  },
  {
   "cell_type": "markdown",
   "metadata": {},
   "source": [
    "## 1. Import packages"
   ]
  },
  {
   "cell_type": "code",
   "execution_count": 2,
   "metadata": {},
   "outputs": [
    {
     "name": "stdout",
     "output_type": "stream",
     "text": [
      "flopy is installed in /Library/Frameworks/Python.framework/Versions/3.8/lib/python3.8/site-packages/flopy\n"
     ]
    }
   ],
   "source": [
    "#import packages\n",
    "import flopy\n",
    "import numpy as np\n",
    "import matplotlib as mp\n",
    "import os\n",
    "import flopy.utils.binaryfile as bf\n",
    "from mpl_toolkits.mplot3d import Axes3D\n",
    "import matplotlib.pyplot as plt\n",
    "from matplotlib import cm\n",
    "from matplotlib.ticker import LinearLocator, FormatStrFormatter\n",
    "import csv\n",
    "\n",
    "#print full output\n",
    "np.set_printoptions(threshold=np.inf)\n",
    "\n",
    "#jupyter specific--included to show plots in notebook\n",
    "%matplotlib inline \n",
    "\n",
    "#Delete Packages\n",
    "# mdir = \"C:\\Users\\vivek\\Documents\\UA Coursework\\HWRS 582 Groundwater Modelling\\GroMore_Project\\Vivek\\Scenario 1\"\n",
    "\n",
    "# files = os.listdir(mdir)\n",
    "# ext=['.dis','.bas','.lpf','.oc','.pcg','.wel','.hds','.cbc','.riv','.list','.nam','.evt',\n",
    "#      '.rch','.mpbas','.mpend','.mplst','.mpnam','.mppth','.mpsim','.log','.timeseries',\n",
    "#      '.lis','.chd','.ddn','.sloc']\n",
    "# for file in files:\n",
    "#     for i in range(0,len(ext)):\n",
    "#         if file.endswith(ext[i]):\n",
    "#             os.remove(os.path.join(dir,file))"
   ]
  },
  {
   "cell_type": "markdown",
   "metadata": {},
   "source": [
    "## 2. Discretization and other inputs"
   ]
  },
  {
   "cell_type": "code",
   "execution_count": 3,
   "metadata": {},
   "outputs": [],
   "source": [
    "# Discretization\n",
    "nrow = 50 #number of rows\n",
    "ncol = 50 #number of columns\n",
    "nlay = 3  #number of layers\n",
    "\n",
    "dx= 1000 #width of grid cells in x direction \n",
    "dy= 1000 #width of grid cells in y direction \n",
    "Lx = ncol*dx  #width of domain in x\n",
    "Ly = nrow*dy #width of domain in y\n",
    "\n",
    "ztop = np.genfromtxt('base_model_elevs.csv', delimiter=',', dtype=float)   # top elevation of top layer (import from csv file) (dim: nrow,ncol)\n",
    "\n",
    "## Subsurface properties\n",
    "n = 0.1        #assign porosity\n",
    "Ss = 0.0001      #assign storage coefficient\n",
    "Sy = 0.1        #assign specific yield\n",
    "uncnf = 1       #0=confined, >0 = unconfined\n",
    "\n",
    "## ET\n",
    "ET = 1e-5 #m/day\n",
    "ET_locxy=[[24000,0], [0, 0]] #lower left and upper right corners of ET in xy coordinate\n",
    "ET_rows_forced=(1.0, 49.0) #me forcing the et_rows to be 0-50\n",
    "ET_cols_forced = (26.0, 49.0)\n",
    "ET_zone = np.zeros((1,nrow,ncol))     # define an array of zeroes the size of the model grid\n",
    "ET_zone[0,int(ET_rows_forced[0]):int(ET_rows_forced[1]), int(ET_cols_forced[0]):int(ET_cols_forced[1])] = ET \n",
    "\n",
    "rip_ET= 5e-5  #riparian zone\n",
    "rip_locxy= [[0,21000],[23000,0]]\n",
    "rip_rows_forced = (21.0, 28.0)  #forced riparian area\n",
    "rip_cols_forced = (1.0, 49.0)\n",
    "rip_zone = np.zeros((nlay,nrow,ncol))     # define an array of zeroes the size of the model grid\n",
    "ET_zone[0,int(rip_rows_forced[0]):int(rip_rows_forced[1]), int(rip_cols_forced[0]):int(rip_cols_forced[1])] = rip_ET \n",
    "\n",
    "extinction_depth = 10 #m\n",
    "\n",
    "## Recharge\n",
    "rech=4e-5  #m/d\n",
    "rechxy=[(0,0),(0,36000)]  #recharge zone\n",
    "\n",
    "rech_rows_forced = (1.0, 49.0) #rech zone forced for leftmost 15 cols\n",
    "rech_cols_forced = (1.0, 15.0)\n",
    "\n",
    "rech_zone = np.zeros((1,nrow,ncol))\n",
    "rech_zone[0,int(rech_rows_forced[0]):int(rech_rows_forced[1]),int(rech_cols_forced[0]):int(rech_cols_forced[1])]=rech\n",
    "#print(\"recharge location forced(col, row)\", rech_cols_forced,rech_rows_forced)\n",
    "\n",
    "# Setting up wells\n",
    "pumping1 = 0 # m3/day      -1500 pumping rate for water supply well  \n",
    "pumping2 = 0 # m^3/d         -3000 irrigation well pumping rate (for wheat)\n",
    "\n",
    "well_agua = [2,29,37, pumping1] #Well loc (layer, row, column)\n",
    "well_ag = [0,38,12, pumping2] #Well loc (layer, row, column)\n",
    "MW1 = [0,37,12,0]\n",
    "MW2 = [0,25,24,0]\n",
    "\n",
    "wel_spd = {0: [well_agua, well_ag, MW1, MW2]}\n",
    "\n",
    "## init boundary conditions\n",
    "h_right = 70\n",
    "\n",
    "## Timing\n",
    "nper = 1 #number of stress periods \n",
    "steady = [True] #list noting the stress period type"
   ]
  },
  {
   "cell_type": "markdown",
   "metadata": {},
   "source": [
    "### Layering"
   ]
  },
  {
   "cell_type": "code",
   "execution_count": 4,
   "metadata": {},
   "outputs": [],
   "source": [
    "## define layer properties \n",
    "K_horiz = 10 #m/d\n",
    "K_vert = 10 #m/d\n",
    "K_vert2 = 0.0001 #m/d  #K for the middle layer \n",
    "\n",
    "\n",
    "## make horizontal K np arrays\n",
    "Kh = np.zeros((nlay,nrow,ncol))     # define an array of zeros the size of the model grid (nlay, nrow, ncol)\n",
    "Kh[:,:,:] = K_horiz # assign the original value to the entire array\n",
    "\n",
    "## Make a arrays for the K values\n",
    "Kz = np.zeros((nlay,nrow,ncol))     # define an array of zeros the size of the model grid (nlay, nrow, ncol)\n",
    "Kz[:,:,:] = K_vert                   # assign the original value to the entire array\n",
    "Kz[1,:,20:49] = K_vert2            #Replace K in the middle layer with the lower value\n",
    "#Kz[1,:,:] = K_vert2\n",
    "#print(K_horiz)\n",
    "#print(Kz)\n",
    "\n",
    "## Make some changes to the parameters\n",
    "bot_elev = 0.\n",
    "mid_elev = 40.\n",
    "top_elev = 45.\n",
    "\n",
    "botm = np.zeros((nlay,nrow,ncol)) # initialize array of zeros for bottom elevation for each model cell (dim: nlay,nrow,ncol)\n",
    "botm[2,:,:] = bot_elev                 # bottom elevation of lowest layer (2) is 0 m\n",
    "botm[1,:,:] = mid_elev                 #bottom elevation of middle layer (1) is 40 m           \n",
    "botm[0,:,:] = top_elev                 # bottom elevation of top layer (0) 45 "
   ]
  },
  {
   "cell_type": "markdown",
   "metadata": {},
   "source": [
    "## Boundary Conditions"
   ]
  },
  {
   "cell_type": "code",
   "execution_count": 5,
   "metadata": {},
   "outputs": [],
   "source": [
    "#setup initial heads as 1 everywhere except on the boundaries\n",
    "H_init = np.ones((nlay, nrow, ncol), dtype=np.float32)  #float array (i.e. decimal), sets all heads to 1.0\n",
    "H_init[:, :, :] = h_right  #initialize the entire domain to the right head value\n",
    "H_init[:, :, 49] = h_right    #replace first (right) col with desired head value\n",
    "#########################\n",
    "\n",
    "#Define cell activity (IBOUND)\n",
    "ibound=np.ones((nlay,nrow,ncol))                                                  \n",
    "ibound[:,:,0] = 0  #1st col = no flow       \n",
    "ibound[:,:,49] = -1  #last col = constant head \n",
    "\n",
    "ibound[:,0,:49]=0\n",
    "ibound[:,49,:49]=0\n",
    "ibound[:,1,:5]=0\n",
    "ibound[:,2,:4]=0\n",
    "ibound[:,3,:3]=0\n",
    "ibound[:,4,:2]=0\n",
    "\n",
    "ibound[:,48,:5]=0\n",
    "ibound[:,47,:4]=0\n",
    "ibound[:,46,:3]=0\n",
    "ibound[:,45,:2]=0\n",
    "\n",
    "ibound[1:,1,:7]=0\n",
    "ibound[1:,2,:6]=0\n",
    "ibound[1:,3,:5]=0\n",
    "ibound[1:,4,:4]=0\n",
    "ibound[1:,5,:3]=0\n",
    "ibound[1:,6,1]=0\n",
    "\n",
    "ibound[1:,48,:7]=0\n",
    "ibound[1:,47,:6]=0\n",
    "ibound[1:,46,:5]=0\n",
    "ibound[1:,45,:4]=0\n",
    "ibound[1:,44,:3]=0\n",
    "ibound[1:,43,1]=0\n",
    "\n",
    "ibound[2,1,:9]=0\n",
    "ibound[2,2,:8]=0\n",
    "ibound[2,3,:7]=0\n",
    "ibound[2,4,:6]=0\n",
    "ibound[2,5,:5]=0\n",
    "ibound[2,6,:4]=0\n",
    "ibound[2,7,:3]=0\n",
    "ibound[2,8,1]=0\n",
    "\n",
    "ibound[2,48,:9]=0\n",
    "ibound[2,47,:8]=0\n",
    "ibound[2,46,:7]=0\n",
    "ibound[2,45,:6]=0\n",
    "ibound[2,44,:5]=0\n",
    "ibound[2,43,:4]=0\n",
    "ibound[2,42,:3]=0\n",
    "ibound[2,41,1]=0\n",
    "\n",
    "\n",
    "np.set_printoptions(threshold=np.inf)\n"
   ]
  },
  {
   "cell_type": "markdown",
   "metadata": {},
   "source": [
    "## river properties"
   ]
  },
  {
   "cell_type": "code",
   "execution_count": 6,
   "metadata": {},
   "outputs": [],
   "source": [
    "#DEFINE RIVERS\n",
    "riv_row= 24\n",
    "riv_sp = [] #create list to store all river cells for stress period 1\n",
    "k_rivbott = 1000 #river bottom hydraulic conductivity in m/d\n",
    "sed_thick = 1 #thickness of riverbed sediment in m\n",
    "cond = k_rivbott*(1)*(1)/(sed_thick) #river bed conductance in m^2/d\n",
    "r_stage = .5 #stage in river (stress period 1)\n",
    "r_bott = ztop[riv_row,:] #river bottom\n",
    "#print(r_bott)\n",
    "for i in range(1,ncol):\n",
    "    riv_sp.append([0, riv_row, i, r_bott[i]-1+sed_thick+r_stage, cond, r_bott[i]-2])\n",
    "    \n",
    "#print(riv_spd)\n",
    "#create dictionary of stress period data\n",
    "riv_spd = {0: riv_sp}\n",
    "#print(riv_spd[0])"
   ]
  },
  {
   "cell_type": "markdown",
   "metadata": {},
   "source": [
    "# Scenario 1: Pre Development model, no seasonality\n",
    "\n",
    "Build the base model as described above without the proposed agricultural activity.\n",
    " * Run the model as steady state with no pumping from the town's well.\n",
    " * Calculate the flux from the stream to the groundwater\n",
    " * Also show a reverse particle track map to identify the source of the water to the stream.\n",
    " * Finally, report the water level at the monitoring wells and at the town's well (even though it isn't pumping for this scenario)."
   ]
  },
  {
   "cell_type": "markdown",
   "metadata": {},
   "source": [
    "## Set up and run scenario 1"
   ]
  },
  {
   "cell_type": "code",
   "execution_count": 7,
   "metadata": {},
   "outputs": [
    {
     "name": "stdout",
     "output_type": "stream",
     "text": [
      "check method not implemented for EVT Package.\n",
      "\n",
      "OC PACKAGE DATA VALIDATION:\n",
      "  No errors or warnings encountered.\n",
      "\n",
      "\n",
      "OC PACKAGE DATA VALIDATION:\n",
      "  No errors or warnings encountered.\n",
      "\n",
      "\n",
      "LPF PACKAGE DATA VALIDATION:\n",
      "  No errors or warnings encountered.\n",
      "\n",
      "  Checks that passed:\n",
      "    zero or negative horizontal hydraulic conductivity values\n",
      "    zero or negative vertical hydraulic conductivity values\n",
      "    negative horizontal anisotropy values\n",
      "    horizontal hydraulic conductivity values below checker threshold of 1e-11\n",
      "    horizontal hydraulic conductivity values above checker threshold of 100000.0\n",
      "    vertical hydraulic conductivity values below checker threshold of 1e-11\n",
      "    vertical hydraulic conductivity values above checker threshold of 100000.0\n",
      "\n",
      "check method not implemented for PCG Package.\n",
      "\n",
      "RIV PACKAGE DATA VALIDATION:\n",
      "  No errors or warnings encountered.\n",
      "\n",
      "  Checks that passed:\n",
      "    stage below cell bottom\n",
      "    rbot below cell bottom\n",
      "    RIV stage below rbots\n",
      "\n",
      "\n",
      "RCH PACKAGE DATA VALIDATION:\n",
      "  1 Warning:\n",
      "    1 instance of \r",
      "    Mean R/T ratio < checker warning threshold of 2e-08 for 1 stress periods\n",
      "\n",
      "  Checks that passed:\n",
      "    Variable NRCHOP set to 3.\n",
      "\n",
      "\n",
      "DIS PACKAGE DATA VALIDATION:\n",
      "  No errors or warnings encountered.\n",
      "\n",
      "  Checks that passed:\n",
      "    zero or negative thickness\n",
      "    thin cells (less than checker threshold of 1.0)\n",
      "    nan values in top array\n",
      "    nan values in bottom array\n",
      "\n",
      "FloPy is using the following  executable to run the model: /Users/amanda_triplett/Documents/Courses/groundwater_Modeling/pymake/examples/mf2005\n",
      "\n",
      "                                  MODFLOW-2005     \n",
      "    U.S. GEOLOGICAL SURVEY MODULAR FINITE-DIFFERENCE GROUND-WATER FLOW MODEL\n",
      "                             Version 1.12.00 2/3/2017                        \n",
      "\n",
      " Using NAME file: Scenario_1.nam \n",
      " Run start date and time (yyyy/mm/dd hh:mm:ss): 2020/04/22 11:55:23\n",
      "\n",
      " Solving:  Stress period:     1    Time step:     1    Ground-Water Flow Eqn.\n",
      " Run end date and time (yyyy/mm/dd hh:mm:ss): 2020/04/22 11:55:23\n",
      " Elapsed run time:  0.118 Seconds\n",
      "\n",
      "  Normal termination of simulation\n"
     ]
    }
   ],
   "source": [
    "#Initialize the model\n",
    "modelname = \"Scenario_1\"\n",
    "#moddir=\"/Users/hardknox47/Desktop/HWRS482/MODFLOW/pymake/examples/mf2005\"\n",
    "moddir=\"/Users/amanda_triplett/Documents/Courses/groundwater_Modeling/pymake/examples/mf2005\"\n",
    "#moddir=\"C:\\WRDAPP\\MODFLOW\\mf2005\"\n",
    "m = flopy.modflow.Modflow(modelname, exe_name = moddir)\n",
    "\n",
    "#Discretization - dis\n",
    "dis = flopy.modflow.ModflowDis(model=m, nlay=nlay, nrow=nrow, ncol=ncol, \n",
    "                               delr=dx, delc=dy, top=ztop, botm=botm, \n",
    "                               itmuni = 4, lenuni = 2, \n",
    "                               nper=nper, steady=steady)\n",
    "\n",
    "# Boundary and initial conditions - bas\n",
    "bas = flopy.modflow.ModflowBas(m, ibound=ibound, strt=H_init)\n",
    "\n",
    "#Layer properties - lpf\n",
    "lpf = flopy.modflow.ModflowLpf(m, laytyp=uncnf, hk=Kh, \n",
    "                               vka=Kz, ss=Ss,\n",
    "                               sy=Sy,storagecoefficient=True, ipakcb=53)\n",
    "\n",
    "\n",
    "rch = flopy.modflow.mfrch.ModflowRch(model=m, rech=rech_zone, ipakcb=53)     #create rch object\n",
    "\n",
    "\n",
    "# Attach ET package\n",
    "evt = flopy.modflow.mfevt.ModflowEvt(m, surf=ztop, evtr=ET_zone, exdp=extinction_depth, ipakcb=53) \n",
    "\n",
    "wel = flopy.modflow.ModflowWel(model=m, stress_period_data=wel_spd)\n",
    "\n",
    "#Setting up RIV package\n",
    "riv = flopy.modflow.ModflowRiv(model=m,stress_period_data = riv_spd, ipakcb=53)\n",
    "\n",
    "#Output control - OC \n",
    "spd = {(0,0):['print head', 'print budget', 'save head', 'save budget']} #create a dictionary for stress period data, where key (0,0) is associated with value ['print...'] \n",
    "oc = flopy.modflow.ModflowOc(model=m, stress_period_data=spd, compact=True)\n",
    "\n",
    "#Numerical solver - pcg\n",
    "#pcg = flopy.modflow.ModflowPcg(model=m)\n",
    "#Numerical solver - pcg\n",
    "pcg = flopy.modflow.ModflowPcg(model=m, mxiter=100, iter1=200, relax = 0.97, damp = 0.9)\n",
    "\n",
    "#write the inputs\n",
    "m.write_input()   \n",
    "\n",
    "m.evt.check()\n",
    "m.oc.check()\n",
    "m.oc.check()\n",
    "m.lpf.check()\n",
    "m.pcg.check()\n",
    "m.riv.check()\n",
    "m.rch.check()\n",
    "m.dis.check()\n",
    "  \n",
    "\n",
    "#Run the model \n",
    "success, mfoutput = m.run_model(pause=False, report=True)\n",
    "if not success:\n",
    "    raise Exception('MODFLOW did not terminate normally.')"
   ]
  },
  {
   "cell_type": "markdown",
   "metadata": {},
   "source": [
    "# Adding Particles"
   ]
  },
  {
   "cell_type": "code",
   "execution_count": 7,
   "metadata": {},
   "outputs": [],
   "source": [
    "moddirmp=\"C:\\WRDAPP\\modpath_7_2_001\\mpath7\"\n",
    "mpnameme=os.path.join(modelname + '_mp')\n",
    "\n",
    "\n",
    "locsb = [[0, 0, 0, 0, nrow - 1, ncol-1]]\n",
    "#set the number of particles per cell\n",
    "sd = flopy.modpath.CellDataType(drape=0, columncelldivisions=1, rowcelldivisions=1, layercelldivisions=1)\n",
    "#setup theparticles\n",
    "p = flopy.modpath.LRCParticleData(subdivisiondata=[sd], lrcregions=[locsb])\n",
    "pg2 = flopy.modpath.ParticleGroupLRCTemplate(particlegroupname='PG1',particledata=p,filename='ex01a.pg1.sloc')\n",
    "particlegroups = [pg2]\n",
    "\n",
    "defaultiface = {'RECHARGE': 6, 'ET': 6}\n",
    "\n",
    "#setup  the modpath packages\n",
    "mp = flopy.modpath.Modpath7(modelname=modelname + '_mp', flowmodel=m, exe_name=moddirmp)\n",
    "mpbas = flopy.modpath.Modpath7Bas(mp, porosity=n, defaultiface=defaultiface)\n",
    "mpsim = flopy.modpath.Modpath7Sim(mp, simulationtype='combined',\n",
    "                                  trackingdirection='forward',\n",
    "                                  weaksinkoption='stop_at',\n",
    "                                  weaksourceoption='stop_at',\n",
    "                                  budgetoutputoption='summary',\n",
    "                                  stoptimeoption='extend', \n",
    "                                  particlegroups= particlegroups)\n",
    "\n",
    "mp.add_package(rch)\n",
    "# write modpath datasets\n",
    "mp.write_input()\n",
    "\n",
    "# run modpath\n",
    "mp.run_model()\n",
    "\n",
    "mp.get_package_list()"
   ]
  },
  {
   "cell_type": "markdown",
   "metadata": {},
   "source": [
    "## Plotting Bounday Conditions"
   ]
  },
  {
   "cell_type": "code",
   "execution_count": 8,
   "metadata": {},
   "outputs": [
    {
     "data": {
      "text/plain": [
       "<matplotlib.legend.Legend at 0x7ff33826c2b0>"
      ]
     },
     "execution_count": 8,
     "metadata": {},
     "output_type": "execute_result"
    },
    {
     "data": {
      "image/png": "[encoded data removed]",
      "text/plain": [
       "<Figure size 720x720 with 1 Axes>"
      ]
     },
     "metadata": {
      "needs_background": "light"
     },
     "output_type": "display_data"
    }
   ],
   "source": [
    "#CHECK BOUNDARY CONDITIONS\n",
    "fig = plt.figure(figsize=(10, 10))\n",
    "ax = fig.add_subplot(1, 1, 1, aspect='equal')\n",
    "\n",
    "modelmap = flopy.plot.PlotMapView(model=m, layer=0)\n",
    "grid = modelmap.plot_grid()\n",
    "ib = modelmap.plot_ibound()\n",
    "zones = ET_zone + rech_zone\n",
    "quadmesh = modelmap.plot_array(zones)\n",
    "#recharge = modelmap.plot_array((rech_zone), color = 'orange')\n",
    "#ET = modelmap.plot_array(ET_zone)\n",
    "riv_plot = modelmap.plot_bc(ftype='RIV')\n",
    "wel_plot = modelmap.plot_bc(ftype='WEL')\n",
    "quadmesh = modelmap.plot_ibound()\n",
    "\n",
    "#add labels and legend\n",
    "plt.xlabel('Lx (m)',fontsize = 14)\n",
    "plt.ylabel('Ly (m)',fontsize = 14)\n",
    "plt.title('Boundary Conditions', fontsize = 15, fontweight = 'bold')\n",
    "plt.legend(handles=[mp.patches.Patch(color='green',label='River',ec='black'),\n",
    "                   mp.patches.Patch(color='navy',label='Const Head Boundary',ec='black'),\n",
    "                   mp.patches.Patch(color='white',label='Active Cell',ec='black'),\n",
    "                   mp.patches.Patch(color='black',label='Inactive Cell',ec='black'),\n",
    "                   mp.patches.Patch(color='Red',label='Well',ec='black'),\n",
    "                   mp.patches.Patch(color='Yellow',label='Riparian Area',ec='black'),\n",
    "                   mp.patches.Patch(color='cyan',label='Right ET',ec='black')],)"
   ]
  },
  {
   "cell_type": "markdown",
   "metadata": {},
   "source": [
    "## Read in the outputs"
   ]
  },
  {
   "cell_type": "code",
   "execution_count": 9,
   "metadata": {},
   "outputs": [],
   "source": [
    "#Head data\n",
    "modelname = \"Scenario_1\"\n",
    "hds = bf.HeadFile(modelname+'.hds')                   # reads the binary head file\n",
    "times = hds.get_times()                               # returns a list of timesteps\n",
    "head = hds.get_data(totim=times[-1])        #returns a numpy array of heads for specified time (last timestep)\n",
    "\n",
    "#Budget data\n",
    "budgobj = flopy.utils.binaryfile.CellBudgetFile(modelname+'.cbc') #get flow data as python object\n",
    "frf = budgobj.get_data(text='FLOW RIGHT FACE',totim=1.0) \n",
    "fff = budgobj.get_data(text='FLOW FRONT FACE',totim=1.0) \n",
    "#storage = budgobj.get_data(text='STORAGE',totim=1.0) \n",
    "consthead = budgobj.get_data(text='CONSTANT HEAD',totim=1.0) \n",
    "leakage = budgobj.get_data(text='RIVER LEAKAGE',totim=1.0) \n",
    "#leakage = budgobj.get_data(text='RIVER LEAKAGE')"
   ]
  },
  {
   "cell_type": "markdown",
   "metadata": {},
   "source": [
    "## Plotting leakage"
   ]
  },
  {
   "cell_type": "code",
   "execution_count": 10,
   "metadata": {},
   "outputs": [
    {
     "name": "stdout",
     "output_type": "stream",
     "text": [
      "Total flux from river to groundwater 10776.471863269806 m3/day\n"
     ]
    },
    {
     "data": {
      "image/png": "[encoded data removed]",
      "text/plain": [
       "<Figure size 432x432 with 1 Axes>"
      ]
     },
     "metadata": {
      "needs_background": "light"
     },
     "output_type": "display_data"
    }
   ],
   "source": [
    "leak=leakage[0]\n",
    "tot_leak = sum(leak.q)\n",
    "#print(sum(leakage[0].q))\n",
    "print(\"Total flux from river to groundwater\", tot_leak, \"m3/day\")\n",
    "x2 = []\n",
    "for n in range(0,50):\n",
    "    x2.append(n)\n",
    "y2 = np.zeros(50)\n",
    "fig = plt.figure(figsize=(6, 6))\n",
    "x = list(range(49))\n",
    "plt.plot(x, leak.q)\n",
    "plt.plot(x2, y2)\n",
    "plt.plot()\n",
    "plt.title('Leakage from river across column',fontweight='bold')\n",
    "plt.xlabel('Column number', fontweight = 'bold')\n",
    "plt.ylabel(\"Leakage in cell (m3/day)\", fontweight = 'bold')\n",
    "plt.show()\n"
   ]
  },
  {
   "cell_type": "markdown",
   "metadata": {},
   "source": [
    "## Finding head at monitoring wells"
   ]
  },
  {
   "cell_type": "code",
   "execution_count": 11,
   "metadata": {},
   "outputs": [
    {
     "name": "stdout",
     "output_type": "stream",
     "text": [
      "Head at Monitoring Well 1 =  90.49716\n",
      "Head at Monitoring Well 2 =  79.02425\n",
      "Head at Community Well 1 =  75.61884\n"
     ]
    }
   ],
   "source": [
    "#Checking heads at the wells\n",
    "\n",
    "print(\"Head at Monitoring Well 1 = \", head[0, 37, 12])\n",
    "print(\"Head at Monitoring Well 2 = \", head[0, 25, 24])\n",
    "print(\"Head at Community Well 1 = \", head[2, 29, 37])\n",
    "\n",
    "with open('FP_heads.csv', 'w', newline='') as csvfile:  #creates an empty csv file called FP_heads\n",
    "    writer = csv.writer(csvfile, delimiter=',')        \n",
    "    for i in range(len(head[0,:,0])):                    #writes each row\n",
    "        writer.writerow(head[0,i,:])\n"
   ]
  },
  {
   "cell_type": "code",
   "execution_count": null,
   "metadata": {},
   "outputs": [],
   "source": [
    "fig = plt.figure(figsize=(15, 5))\n",
    "ax = fig.add_subplot(1, 1, 1)\n",
    "\n",
    "xsect = flopy.plot.PlotCrossSection(model=m, line={'row': 25}) #note use the key 'column' if you want to plot a column instaed\n",
    "patches = xsect.plot_ibound(color_noflow='red', color_ch='blue')\n",
    "#patches = xsect.plot_bc('WEL', color='red')\n",
    "# linecollection = xsect.plot_grid(color='green')\n",
    "# t = ax.set_title('Row 25 Cross-Section with IBOUND Boundary Conditions')\n",
    "headpc = head[0]\n",
    "pc = xsect.plot_array(headpc, masked_values=[-1.0000000e+30], head=headpc, alpha=0.5)\n",
    "#patches = xsect.plot_ibound(head=head[0][0])\n",
    "#patches = xsect.plot_ibound(color_noflow='red', color_ch='blue')\n",
    "#patches = xsect.plot_bc('WEL', color='red')\n",
    "linecollection = xsect.plot_grid(color='black', lw=0.5)\n",
    "t = ax.set_title('3 Layer Model Row 25 Cross-Section')\n",
    "cb = plt.colorbar(pc, shrink=0.75)\n",
    "#Overlay the head in a layer of the model- in this case I'm doing the top layer i.e. head3[0,:,:]\n",
    "wt = xsect.plot_surface(head[0], color='blue', lw=1)"
   ]
  },
  {
   "cell_type": "code",
   "execution_count": null,
   "metadata": {},
   "outputs": [],
   "source": [
    "#import 3d axes toolkit from matplotlib\n",
    "from mpl_toolkits.mplot3d import Axes3D\n",
    "\n",
    "#create 3d figure\n",
    "fig_3d = plt.figure(figsize=(12,5))\n",
    "ax = fig_3d.gca(projection='3d')\n",
    "\n",
    "#set X, Y, Z variables for 3d plot to be our model domain and head solution\n",
    "X = np.arange(0,Lx,dx)\n",
    "Y = np.arange(0,Ly,dy)\n",
    "X, Y = np.meshgrid(X, Y)\n",
    "Z = np.flipud(head[0][0])\n",
    "\n",
    "#create surface and labels\n",
    "surf = ax.plot_surface(X,Y,Z, cmap = 'viridis', linewidth=0, label='head')\n",
    "fig_3d.colorbar(surf,shrink=0.5,aspect=150).set_label('Head (m)',fontsize=10,fontweight='bold')\n",
    "ax.set_xlabel('Lx (m)', fontsize=15, fontweight='bold')\n",
    "ax.set_ylabel('Ly (m)', fontsize=15, fontweight='bold')\n",
    "ax.set_title('Steady-State Model Head Profile', fontsize=15, fontweight='bold')\n",
    "plt.show(surf)\n"
   ]
  },
  {
   "cell_type": "markdown",
   "metadata": {},
   "source": [
    "## Reading Particle files"
   ]
  },
  {
   "cell_type": "code",
   "execution_count": null,
   "metadata": {},
   "outputs": [],
   "source": [
    "#load in the flow path file\n",
    "fpth = os.path.join(mpname + '.mppth')\n",
    "p = flopy.utils.PathlineFile(fpth)\n",
    "\n",
    "#load in the end point file\n",
    "fpth = os.path.join(mpname + '.mpend')\n",
    "e = flopy.utils.EndpointFile(fpth, verbose=False)\n",
    "\n",
    "#make a subset which is all the particles\n",
    "pall = p.get_alldata()  #formerly pwb and ewb\n",
    "eall = e.get_alldata()\n",
    "\n",
    "#make a subset which is the partlces that end in the well \n",
    "rivernodes = list(range(1201, 1250))\n",
    "#print(rivernodes)\n",
    "priver = p.get_destination_pathline_data(dest_cells=rivernodes)\n",
    "eriver= e.get_destination_endpoint_data(dest_cells=rivernodes)"
   ]
  },
  {
   "cell_type": "markdown",
   "metadata": {},
   "source": [
    "## Plotting flowlines"
   ]
  },
  {
   "cell_type": "code",
   "execution_count": null,
   "metadata": {},
   "outputs": [],
   "source": [
    "fig = plt.figure(figsize=(10, 10))\n",
    "modelmap = flopy.plot.PlotMapView(model=m, layer=0)\n",
    "grid = modelmap.plot_grid()\n",
    "ib = modelmap.plot_ibound()\n",
    "\n",
    "modelmap.plot_pathline(pall, layer='all', color='blue', lw=0.5, linestyle=':', label=' not captured by stream') #,marker='o', markercolor='black', markersize=3, markerevery=5)\n",
    "modelmap.plot_pathline(priver, layer='all', color='green', lw=0.5, linestyle=':', label='captured by stream') # ,marker='o', markercolor='black', markersize=3, markerevery=5)\n",
    "modelmap.ax.legend(loc='lower left', bbox_to_anchor=(1, 0.00),fontsize=13);\n",
    "plt.title('Water captured by the stream',fontweight='bold',fontsize=13)\n",
    "\n",
    "# plt.legend(handles=[mp.patches.Patch(color='green',label='River',ec='black'),\n",
    "#                    mp.patches.Patch(color='blue',label='Const Head Boundary',ec='black')],)\n",
    "\n",
    "plt.show(modelmap)\n",
    "\n"
   ]
  },
  {
   "cell_type": "code",
   "execution_count": null,
   "metadata": {},
   "outputs": [],
   "source": []
  }
 ],
 "metadata": {
  "kernelspec": {
   "display_name": "Python 3",
   "language": "python",
   "name": "python3"
  },
  "language_info": {
   "codemirror_mode": {
    "name": "ipython",
    "version": 3
   },
   "file_extension": ".py",
   "mimetype": "text/x-python",
   "name": "python",
   "nbconvert_exporter": "python",
   "pygments_lexer": "ipython3",
   "version": "3.8.2"
  }
 },
 "nbformat": 4,
 "nbformat_minor": 4
}
